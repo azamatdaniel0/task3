{
  "cells": [
    {
      "cell_type": "markdown",
      "metadata": {
        "id": "6IjLMZXRocXp"
      },
      "source": [
        "# Lab 1 and 2 (NumPy, Pandas - 10 points)"
      ]
    },
    {
      "cell_type": "code",
      "execution_count": 96,
      "metadata": {
        "id": "X3khonh8ocX2"
      },
      "outputs": [],
      "source": [
        "#import here all needed libraries\n",
        "import numpy as np\n",
        "import pandas as pd\n",
        "from matplotlib import pyplot as pyplot\n",
        "import seaborn as sbn"
      ]
    },
    {
      "cell_type": "markdown",
      "metadata": {
        "id": "8_EIT0XmocYF"
      },
      "source": [
        "-----\n",
        "\n",
        "## NumPy"
      ]
    },
    {
      "cell_type": "markdown",
      "metadata": {
        "id": "N2eV09XXocYH"
      },
      "source": [
        "#### 1. Create a null vector of size 10 (★☆☆)"
      ]
    },
    {
      "cell_type": "code",
      "execution_count": 97,
      "metadata": {
        "colab": {
          "base_uri": "https://localhost:8080/"
        },
        "id": "FFfirDcgocYI",
        "outputId": "66e93e73-db56-4fdf-a49f-09c4d63423a2"
      },
      "outputs": [
        {
          "name": "stdout",
          "output_type": "stream",
          "text": [
            "[0. 0. 0. 0. 0. 0. 0. 0. 0. 0.]\n"
          ]
        }
      ],
      "source": [
        "a = np.linspace(0,0,10)\n",
        "print(a)"
      ]
    },
    {
      "cell_type": "markdown",
      "metadata": {
        "id": "YhM3oK3UocYM"
      },
      "source": [
        "#### 2. Create a vector with values ranging from 10 to 49 (★☆☆)"
      ]
    },
    {
      "cell_type": "code",
      "execution_count": 98,
      "metadata": {
        "colab": {
          "base_uri": "https://localhost:8080/"
        },
        "id": "9MNOfDlHocYN",
        "outputId": "34948914-dad8-465b-9607-44cfa9d988c7"
      },
      "outputs": [
        {
          "name": "stdout",
          "output_type": "stream",
          "text": [
            "[10 11 12 13 14 15 16 17 18 19 20 21 22 23 24 25 26 27 28 29 30 31 32 33\n",
            " 34 35 36 37 38 39 40 41 42 43 44 45 46 47 48 49]\n"
          ]
        }
      ],
      "source": [
        "a2 = np.arange(10,50,1)\n",
        "print(a2)"
      ]
    },
    {
      "cell_type": "markdown",
      "metadata": {
        "id": "HE-mEgYFocYO"
      },
      "source": [
        "#### 3. Create a 3x3 matrix with values ranging from 0 to 8 (★☆☆)"
      ]
    },
    {
      "cell_type": "code",
      "execution_count": 99,
      "metadata": {
        "colab": {
          "base_uri": "https://localhost:8080/"
        },
        "id": "erLx5eCBocYP",
        "outputId": "a48a2cfe-f865-4ea7-d70e-414025866f3a"
      },
      "outputs": [
        {
          "name": "stdout",
          "output_type": "stream",
          "text": [
            "[[0 1 2]\n",
            " [3 4 5]\n",
            " [6 7 8]]\n"
          ]
        }
      ],
      "source": [
        "m = np.arange(9).reshape(3,3)\n",
        "print(m)\n"
      ]
    },
    {
      "cell_type": "markdown",
      "metadata": {
        "id": "DF36pxj-ocYR"
      },
      "source": [
        "#### 4. Create a 10x10 array with random values and find the minimum and maximum values (★☆☆)\n",
        "`hint: np.random.random()`"
      ]
    },
    {
      "cell_type": "code",
      "execution_count": 100,
      "metadata": {
        "colab": {
          "base_uri": "https://localhost:8080/"
        },
        "id": "rsoUgBd7ocYV",
        "outputId": "622fc7c1-40b8-4efc-e2fc-87dbe1fce6b8"
      },
      "outputs": [
        {
          "name": "stdout",
          "output_type": "stream",
          "text": [
            "<built-in method min of numpy.ndarray object at 0x000001B0BF27F990>\n",
            "<built-in method max of numpy.ndarray object at 0x000001B0BF27F990>\n",
            "[[0.37454012 0.95071431 0.73199394 0.59865848 0.15601864 0.15599452\n",
            "  0.05808361 0.86617615 0.60111501 0.70807258]\n",
            " [0.02058449 0.96990985 0.83244264 0.21233911 0.18182497 0.18340451\n",
            "  0.30424224 0.52475643 0.43194502 0.29122914]\n",
            " [0.61185289 0.13949386 0.29214465 0.36636184 0.45606998 0.78517596\n",
            "  0.19967378 0.51423444 0.59241457 0.04645041]\n",
            " [0.60754485 0.17052412 0.06505159 0.94888554 0.96563203 0.80839735\n",
            "  0.30461377 0.09767211 0.68423303 0.44015249]\n",
            " [0.12203823 0.49517691 0.03438852 0.9093204  0.25877998 0.66252228\n",
            "  0.31171108 0.52006802 0.54671028 0.18485446]\n",
            " [0.96958463 0.77513282 0.93949894 0.89482735 0.59789998 0.92187424\n",
            "  0.0884925  0.19598286 0.04522729 0.32533033]\n",
            " [0.38867729 0.27134903 0.82873751 0.35675333 0.28093451 0.54269608\n",
            "  0.14092422 0.80219698 0.07455064 0.98688694]\n",
            " [0.77224477 0.19871568 0.00552212 0.81546143 0.70685734 0.72900717\n",
            "  0.77127035 0.07404465 0.35846573 0.11586906]\n",
            " [0.86310343 0.62329813 0.33089802 0.06355835 0.31098232 0.32518332\n",
            "  0.72960618 0.63755747 0.88721274 0.47221493]\n",
            " [0.11959425 0.71324479 0.76078505 0.5612772  0.77096718 0.4937956\n",
            "  0.52273283 0.42754102 0.02541913 0.10789143]]\n"
          ]
        }
      ],
      "source": [
        "a = np.random.random((10,10))\n",
        "print(a.min)\n",
        "print(a.max)\n",
        "print(a)"
      ]
    },
    {
      "cell_type": "markdown",
      "metadata": {
        "id": "6XdoSVafocYW"
      },
      "source": [
        "#### 5. Create the given matrix: (★☆☆)\n",
        "```\n",
        "[[0 0 0 0 0]\n",
        " [1 0 0 0 0]\n",
        " [0 2 0 0 0]\n",
        " [0 0 3 0 0]\n",
        " [0 0 0 4 0]]\n",
        " ```"
      ]
    },
    {
      "cell_type": "code",
      "execution_count": 165,
      "metadata": {
        "colab": {
          "base_uri": "https://localhost:8080/"
        },
        "id": "m48FDpuxocYX",
        "outputId": "fcd0bb82-bbaf-4d4a-f78c-46147d1c36c0"
      },
      "outputs": [
        {
          "name": "stdout",
          "output_type": "stream",
          "text": [
            "[[0. 0. 0. 0. 0.]\n",
            " [0. 0. 0. 0. 0.]\n",
            " [0. 0. 0. 0. 0.]\n",
            " [0. 0. 0. 0. 0.]\n",
            " [0. 0. 0. 0. 0.]]\n"
          ]
        }
      ],
      "source": [
        "m = np.zeros((5,5))\n",
        "print(m)\n"
      ]
    },
    {
      "cell_type": "markdown",
      "metadata": {
        "id": "Xl95i1V_ocYY"
      },
      "source": [
        "#### Run the code below to get the matrix for the tasks from 6 to 10:"
      ]
    },
    {
      "cell_type": "code",
      "execution_count": 102,
      "metadata": {
        "colab": {
          "base_uri": "https://localhost:8080/"
        },
        "id": "khMjUhggocYZ",
        "outputId": "b10bd83f-0d43-49a5-f009-857f536e588e"
      },
      "outputs": [],
      "source": [
        "a = np.random.seed(42)"
      ]
    },
    {
      "cell_type": "markdown",
      "metadata": {
        "id": "HnhCrUkqocYa"
      },
      "source": [
        "#### 6. Print the first and the last row with one slice operation  (★☆☆)"
      ]
    },
    {
      "cell_type": "code",
      "execution_count": 114,
      "metadata": {
        "colab": {
          "base_uri": "https://localhost:8080/"
        },
        "id": "Bl_NC1akocYb",
        "outputId": "6c9a7e31-bc65-4c4e-ebed-0789fa89ff14"
      },
      "outputs": [
        {
          "name": "stdout",
          "output_type": "stream",
          "text": [
            "[[0 1 2]\n",
            " [6 7 8]]\n"
          ]
        }
      ],
      "source": [
        "m= np.arange(9).reshape(3,3)\n",
        "m = np.delete(m,1,axis=0)\n",
        "print(m)\n"
      ]
    },
    {
      "cell_type": "markdown",
      "metadata": {
        "id": "KlfXWoQQocYc"
      },
      "source": [
        "#### 7. Print all elements less than 10  (★☆☆)"
      ]
    },
    {
      "cell_type": "code",
      "execution_count": 104,
      "metadata": {
        "colab": {
          "base_uri": "https://localhost:8080/"
        },
        "id": "Dsu_xkMAocYc",
        "outputId": "cc01a178-c904-4418-9452-20dc03a34d10"
      },
      "outputs": [],
      "source": [
        "# your solution\n"
      ]
    },
    {
      "cell_type": "markdown",
      "metadata": {
        "id": "1Ia4ozM4ocYd"
      },
      "source": [
        "#### 8. Print each even row  (★☆☆)"
      ]
    },
    {
      "cell_type": "code",
      "execution_count": 105,
      "metadata": {
        "colab": {
          "base_uri": "https://localhost:8080/"
        },
        "id": "kp0Fqd43ocYe",
        "outputId": "b792e823-fffd-4ce0-fa8c-193e28c483fa"
      },
      "outputs": [],
      "source": [
        "# your solution\n"
      ]
    },
    {
      "cell_type": "markdown",
      "metadata": {
        "id": "OcPwC14socYe"
      },
      "source": [
        "#### 9. Print each odd column  (★☆☆)"
      ]
    },
    {
      "cell_type": "code",
      "execution_count": 106,
      "metadata": {
        "colab": {
          "base_uri": "https://localhost:8080/"
        },
        "id": "6GpABbPsocYf",
        "outputId": "714f5f70-755d-401a-8fc5-e4e17bc97d70"
      },
      "outputs": [],
      "source": [
        "# your solution\n"
      ]
    },
    {
      "cell_type": "markdown",
      "metadata": {
        "id": "B2qerMJAocYf"
      },
      "source": [
        "#### 10. Create the copy of this matrix and name it M2  (★☆☆)"
      ]
    },
    {
      "cell_type": "code",
      "execution_count": 107,
      "metadata": {
        "id": "AzVxpHkxocYg"
      },
      "outputs": [],
      "source": [
        "# your solution\n"
      ]
    },
    {
      "cell_type": "markdown",
      "metadata": {
        "id": "xgC5kZ2LocYg"
      },
      "source": [
        "#### 11. Find the mean of each row of M1 (★★☆)"
      ]
    },
    {
      "cell_type": "code",
      "execution_count": 108,
      "metadata": {
        "colab": {
          "base_uri": "https://localhost:8080/"
        },
        "id": "C0jvPUZqocYg",
        "outputId": "bb42ed17-4a93-4914-9d79-1007de8701d5"
      },
      "outputs": [],
      "source": [
        "# your solutionSSSS\n"
      ]
    },
    {
      "cell_type": "markdown",
      "metadata": {
        "id": "r0E4Il-wocYg"
      },
      "source": [
        "#### 12. Create the following matrix: (★☆☆)\n",
        "```\n",
        "[[5, 5, 5, 5, 5],\n",
        " [5, 5, 5, 5, 5],\n",
        " [5, 5, 5, 5, 5]]\n",
        "```"
      ]
    },
    {
      "cell_type": "code",
      "execution_count": 109,
      "metadata": {
        "colab": {
          "base_uri": "https://localhost:8080/"
        },
        "id": "w8EYvKV2ocYh",
        "outputId": "76e82ee0-7fea-4c99-cc80-bef9f53f6341"
      },
      "outputs": [
        {
          "name": "stdout",
          "output_type": "stream",
          "text": [
            "[[5 5 5 5 5]\n",
            " [5 5 5 5 5]\n",
            " [5 5 5 5 5]]\n"
          ]
        }
      ],
      "source": [
        "a = np.full((3,5),5)\n",
        "print(a)"
      ]
    },
    {
      "cell_type": "markdown",
      "metadata": {
        "id": "wn_GSooJocYi"
      },
      "source": [
        "#### 13. Add this two arrays and calculate the square of each element: (★★☆)\n",
        "\n",
        "```\n",
        "arrayOne = numpy.array([[5, 6, 9], [21 ,18, 27]])\n",
        "arrayTwo = numpy.array([[15 ,33, 24], [4 ,7, 1]])\n",
        "\n",
        "Result array after calculating the square root of all elements\n",
        "\n",
        "[[ 400 1521 1089]\n",
        " [ 625  625  784]]\n",
        "```"
      ]
    },
    {
      "cell_type": "code",
      "execution_count": 170,
      "metadata": {
        "colab": {
          "base_uri": "https://localhost:8080/"
        },
        "id": "H1EnODS7ocYl",
        "outputId": "b27c668b-bd82-47ef-8b53-94aa8558641e"
      },
      "outputs": [
        {
          "name": "stdout",
          "output_type": "stream",
          "text": [
            "[[ 400 1521 1089]\n",
            " [ 625  625  784]]\n"
          ]
        }
      ],
      "source": [
        "# your solution\n",
        "arrayOne = np.array([[5, 6, 9], [21 ,18, 27]])\n",
        "arrayTwo = np.array([[15 ,33, 24], [4 ,7, 1]])\n",
        "c= arrayOne + arrayTwo\n",
        "c = c*c\n",
        "print(c)\n"
      ]
    },
    {
      "cell_type": "markdown",
      "metadata": {
        "id": "gsMgbNf7ocYl"
      },
      "source": [
        "### Hard level Bonus"
      ]
    },
    {
      "cell_type": "markdown",
      "metadata": {
        "id": "tcoJOc3socYm"
      },
      "source": [
        "#### 14. Create the following matrix and get the highlighted parts with indexing and slicing: (★★★)\n"
      ]
    },
    {
      "cell_type": "code",
      "execution_count": 129,
      "metadata": {
        "colab": {
          "base_uri": "https://localhost:8080/"
        },
        "id": "MscssH-TocYm",
        "outputId": "a34b79f8-43b0-4777-c63d-2c2a301ee6e7"
      },
      "outputs": [
        {
          "name": "stdout",
          "output_type": "stream",
          "text": [
            "[[11 12 13 14 15]\n",
            " [16 17 18 19 20]\n",
            " [21 22 23 24 25]\n",
            " [26 27 28 29 30]\n",
            " [31 32 33 34 35]]\n",
            "[12 17 22 27 32]\n"
          ]
        }
      ],
      "source": [
        "m= np.arange(11,36).reshape(5,5)\n",
        "print(m[:,1])\n",
        "\n"
      ]
    },
    {
      "cell_type": "code",
      "execution_count": 130,
      "metadata": {
        "colab": {
          "base_uri": "https://localhost:8080/"
        },
        "id": "YJdqTbbq187M",
        "outputId": "2842b5f9-dfb9-4c8f-9825-4b3528f33393"
      },
      "outputs": [
        {
          "name": "stdout",
          "output_type": "stream",
          "text": [
            "[[11 13 15]\n",
            " [21 23 25]\n",
            " [31 33 35]]\n"
          ]
        }
      ],
      "source": [
        "m= np.arange(11,36).reshape(5,5)\n",
        "print(m[::2,::2])\n"
      ]
    },
    {
      "cell_type": "code",
      "execution_count": 139,
      "metadata": {
        "colab": {
          "base_uri": "https://localhost:8080/"
        },
        "id": "uBZmISSj2uKS",
        "outputId": "8f711297-4e79-4b90-8d52-0bf92b21d8ff"
      },
      "outputs": [
        {
          "name": "stdout",
          "output_type": "stream",
          "text": [
            "[16 21 26]\n"
          ]
        }
      ],
      "source": [
        "m= np.arange(11,36).reshape(5,5)\n",
        "print(m[1:4,0])"
      ]
    },
    {
      "cell_type": "code",
      "execution_count": 140,
      "metadata": {
        "colab": {
          "base_uri": "https://localhost:8080/"
        },
        "id": "ObHtdUnz3KL8",
        "outputId": "fca80d01-b9f9-42d1-ebe9-bad767b958ea"
      },
      "outputs": [
        {
          "name": "stdout",
          "output_type": "stream",
          "text": [
            "[12 13 14]\n"
          ]
        }
      ],
      "source": [
        "m= np.arange(11,36).reshape(5,5)\n",
        "print(m[0,1:4])"
      ]
    },
    {
      "attachments": {},
      "cell_type": "markdown",
      "metadata": {
        "id": "AzXkyq59ocYn"
      },
      "source": [
        "#### 15. Create the following matrix and get the highlighted parts with indexing and slicing: (★★★)\n",
        "\n"
      ]
    },
    {
      "cell_type": "code",
      "execution_count": 151,
      "metadata": {
        "colab": {
          "base_uri": "https://localhost:8080/"
        },
        "id": "dZo8W5FdocYn",
        "outputId": "e537eb3e-d6de-4381-dc5a-e755f4829172"
      },
      "outputs": [
        {
          "ename": "ValueError",
          "evalue": "cannot reshape array of size 5 into shape (6,6)",
          "output_type": "error",
          "traceback": [
            "\u001b[1;31m---------------------------------------------------------------------------\u001b[0m",
            "\u001b[1;31mValueError\u001b[0m                                Traceback (most recent call last)",
            "Cell \u001b[1;32mIn[151], line 1\u001b[0m\n\u001b[1;32m----> 1\u001b[0m m\u001b[39m=\u001b[39m np\u001b[39m.\u001b[39;49marange(\u001b[39m0\u001b[39;49m,\u001b[39m5\u001b[39;49m)\u001b[39m.\u001b[39;49mreshape(\u001b[39m6\u001b[39;49m,\u001b[39m6\u001b[39;49m)\n",
            "\u001b[1;31mValueError\u001b[0m: cannot reshape array of size 5 into shape (6,6)"
          ]
        }
      ],
      "source": [
        "m= np.arange(0,5).reshape(6,6)\n"
      ]
    },
    {
      "cell_type": "code",
      "execution_count": null,
      "metadata": {
        "colab": {
          "base_uri": "https://localhost:8080/"
        },
        "id": "SClrIZft5Jfm",
        "outputId": "514dd869-f467-4897-b5d2-6a07ab982dbd"
      },
      "outputs": [],
      "source": []
    },
    {
      "cell_type": "code",
      "execution_count": null,
      "metadata": {
        "colab": {
          "base_uri": "https://localhost:8080/"
        },
        "id": "V2_NZJGo5uRB",
        "outputId": "3268b4c6-35cf-4b87-fd31-b5423a7d9f0e"
      },
      "outputs": [],
      "source": []
    },
    {
      "cell_type": "markdown",
      "metadata": {
        "id": "-WUuj-vjocYo"
      },
      "source": [
        "-----\n",
        "\n",
        "## Pandas (5 points)"
      ]
    },
    {
      "cell_type": "code",
      "execution_count": 113,
      "metadata": {
        "colab": {
          "base_uri": "https://localhost:8080/",
          "height": 328
        },
        "id": "sOr-KfI2ocYo",
        "outputId": "1c00bc39-43e2-4fb9-e6b1-72af22e6451e"
      },
      "outputs": [
        {
          "ename": "FileNotFoundError",
          "evalue": "[Errno 2] No such file or directory: 'video_games_sales.csv'",
          "output_type": "error",
          "traceback": [
            "\u001b[1;31m---------------------------------------------------------------------------\u001b[0m",
            "\u001b[1;31mFileNotFoundError\u001b[0m                         Traceback (most recent call last)",
            "Cell \u001b[1;32mIn[113], line 4\u001b[0m\n\u001b[0;32m      1\u001b[0m \u001b[39m# import the datafile \"video_games_sales.csv\"\u001b[39;00m\n\u001b[0;32m      2\u001b[0m \u001b[39m# https://www.kaggle.com/datasets/hamedetezadi/video-games-sales-dataset\u001b[39;00m\n\u001b[1;32m----> 4\u001b[0m df  \u001b[39m=\u001b[39m pd\u001b[39m.\u001b[39;49mread_csv(\u001b[39m'\u001b[39;49m\u001b[39mvideo_games_sales.csv\u001b[39;49m\u001b[39m'\u001b[39;49m)\n",
            "File \u001b[1;32mc:\\Users\\eabdy\\AppData\\Local\\Programs\\Python\\Python311\\Lib\\site-packages\\pandas\\util\\_decorators.py:211\u001b[0m, in \u001b[0;36mdeprecate_kwarg.<locals>._deprecate_kwarg.<locals>.wrapper\u001b[1;34m(*args, **kwargs)\u001b[0m\n\u001b[0;32m    209\u001b[0m     \u001b[39melse\u001b[39;00m:\n\u001b[0;32m    210\u001b[0m         kwargs[new_arg_name] \u001b[39m=\u001b[39m new_arg_value\n\u001b[1;32m--> 211\u001b[0m \u001b[39mreturn\u001b[39;00m func(\u001b[39m*\u001b[39;49margs, \u001b[39m*\u001b[39;49m\u001b[39m*\u001b[39;49mkwargs)\n",
            "File \u001b[1;32mc:\\Users\\eabdy\\AppData\\Local\\Programs\\Python\\Python311\\Lib\\site-packages\\pandas\\util\\_decorators.py:331\u001b[0m, in \u001b[0;36mdeprecate_nonkeyword_arguments.<locals>.decorate.<locals>.wrapper\u001b[1;34m(*args, **kwargs)\u001b[0m\n\u001b[0;32m    325\u001b[0m \u001b[39mif\u001b[39;00m \u001b[39mlen\u001b[39m(args) \u001b[39m>\u001b[39m num_allow_args:\n\u001b[0;32m    326\u001b[0m     warnings\u001b[39m.\u001b[39mwarn(\n\u001b[0;32m    327\u001b[0m         msg\u001b[39m.\u001b[39mformat(arguments\u001b[39m=\u001b[39m_format_argument_list(allow_args)),\n\u001b[0;32m    328\u001b[0m         \u001b[39mFutureWarning\u001b[39;00m,\n\u001b[0;32m    329\u001b[0m         stacklevel\u001b[39m=\u001b[39mfind_stack_level(),\n\u001b[0;32m    330\u001b[0m     )\n\u001b[1;32m--> 331\u001b[0m \u001b[39mreturn\u001b[39;00m func(\u001b[39m*\u001b[39;49margs, \u001b[39m*\u001b[39;49m\u001b[39m*\u001b[39;49mkwargs)\n",
            "File \u001b[1;32mc:\\Users\\eabdy\\AppData\\Local\\Programs\\Python\\Python311\\Lib\\site-packages\\pandas\\io\\parsers\\readers.py:950\u001b[0m, in \u001b[0;36mread_csv\u001b[1;34m(filepath_or_buffer, sep, delimiter, header, names, index_col, usecols, squeeze, prefix, mangle_dupe_cols, dtype, engine, converters, true_values, false_values, skipinitialspace, skiprows, skipfooter, nrows, na_values, keep_default_na, na_filter, verbose, skip_blank_lines, parse_dates, infer_datetime_format, keep_date_col, date_parser, dayfirst, cache_dates, iterator, chunksize, compression, thousands, decimal, lineterminator, quotechar, quoting, doublequote, escapechar, comment, encoding, encoding_errors, dialect, error_bad_lines, warn_bad_lines, on_bad_lines, delim_whitespace, low_memory, memory_map, float_precision, storage_options)\u001b[0m\n\u001b[0;32m    935\u001b[0m kwds_defaults \u001b[39m=\u001b[39m _refine_defaults_read(\n\u001b[0;32m    936\u001b[0m     dialect,\n\u001b[0;32m    937\u001b[0m     delimiter,\n\u001b[1;32m   (...)\u001b[0m\n\u001b[0;32m    946\u001b[0m     defaults\u001b[39m=\u001b[39m{\u001b[39m\"\u001b[39m\u001b[39mdelimiter\u001b[39m\u001b[39m\"\u001b[39m: \u001b[39m\"\u001b[39m\u001b[39m,\u001b[39m\u001b[39m\"\u001b[39m},\n\u001b[0;32m    947\u001b[0m )\n\u001b[0;32m    948\u001b[0m kwds\u001b[39m.\u001b[39mupdate(kwds_defaults)\n\u001b[1;32m--> 950\u001b[0m \u001b[39mreturn\u001b[39;00m _read(filepath_or_buffer, kwds)\n",
            "File \u001b[1;32mc:\\Users\\eabdy\\AppData\\Local\\Programs\\Python\\Python311\\Lib\\site-packages\\pandas\\io\\parsers\\readers.py:605\u001b[0m, in \u001b[0;36m_read\u001b[1;34m(filepath_or_buffer, kwds)\u001b[0m\n\u001b[0;32m    602\u001b[0m _validate_names(kwds\u001b[39m.\u001b[39mget(\u001b[39m\"\u001b[39m\u001b[39mnames\u001b[39m\u001b[39m\"\u001b[39m, \u001b[39mNone\u001b[39;00m))\n\u001b[0;32m    604\u001b[0m \u001b[39m# Create the parser.\u001b[39;00m\n\u001b[1;32m--> 605\u001b[0m parser \u001b[39m=\u001b[39m TextFileReader(filepath_or_buffer, \u001b[39m*\u001b[39;49m\u001b[39m*\u001b[39;49mkwds)\n\u001b[0;32m    607\u001b[0m \u001b[39mif\u001b[39;00m chunksize \u001b[39mor\u001b[39;00m iterator:\n\u001b[0;32m    608\u001b[0m     \u001b[39mreturn\u001b[39;00m parser\n",
            "File \u001b[1;32mc:\\Users\\eabdy\\AppData\\Local\\Programs\\Python\\Python311\\Lib\\site-packages\\pandas\\io\\parsers\\readers.py:1442\u001b[0m, in \u001b[0;36mTextFileReader.__init__\u001b[1;34m(self, f, engine, **kwds)\u001b[0m\n\u001b[0;32m   1439\u001b[0m     \u001b[39mself\u001b[39m\u001b[39m.\u001b[39moptions[\u001b[39m\"\u001b[39m\u001b[39mhas_index_names\u001b[39m\u001b[39m\"\u001b[39m] \u001b[39m=\u001b[39m kwds[\u001b[39m\"\u001b[39m\u001b[39mhas_index_names\u001b[39m\u001b[39m\"\u001b[39m]\n\u001b[0;32m   1441\u001b[0m \u001b[39mself\u001b[39m\u001b[39m.\u001b[39mhandles: IOHandles \u001b[39m|\u001b[39m \u001b[39mNone\u001b[39;00m \u001b[39m=\u001b[39m \u001b[39mNone\u001b[39;00m\n\u001b[1;32m-> 1442\u001b[0m \u001b[39mself\u001b[39m\u001b[39m.\u001b[39m_engine \u001b[39m=\u001b[39m \u001b[39mself\u001b[39;49m\u001b[39m.\u001b[39;49m_make_engine(f, \u001b[39mself\u001b[39;49m\u001b[39m.\u001b[39;49mengine)\n",
            "File \u001b[1;32mc:\\Users\\eabdy\\AppData\\Local\\Programs\\Python\\Python311\\Lib\\site-packages\\pandas\\io\\parsers\\readers.py:1735\u001b[0m, in \u001b[0;36mTextFileReader._make_engine\u001b[1;34m(self, f, engine)\u001b[0m\n\u001b[0;32m   1733\u001b[0m     \u001b[39mif\u001b[39;00m \u001b[39m\"\u001b[39m\u001b[39mb\u001b[39m\u001b[39m\"\u001b[39m \u001b[39mnot\u001b[39;00m \u001b[39min\u001b[39;00m mode:\n\u001b[0;32m   1734\u001b[0m         mode \u001b[39m+\u001b[39m\u001b[39m=\u001b[39m \u001b[39m\"\u001b[39m\u001b[39mb\u001b[39m\u001b[39m\"\u001b[39m\n\u001b[1;32m-> 1735\u001b[0m \u001b[39mself\u001b[39m\u001b[39m.\u001b[39mhandles \u001b[39m=\u001b[39m get_handle(\n\u001b[0;32m   1736\u001b[0m     f,\n\u001b[0;32m   1737\u001b[0m     mode,\n\u001b[0;32m   1738\u001b[0m     encoding\u001b[39m=\u001b[39;49m\u001b[39mself\u001b[39;49m\u001b[39m.\u001b[39;49moptions\u001b[39m.\u001b[39;49mget(\u001b[39m\"\u001b[39;49m\u001b[39mencoding\u001b[39;49m\u001b[39m\"\u001b[39;49m, \u001b[39mNone\u001b[39;49;00m),\n\u001b[0;32m   1739\u001b[0m     compression\u001b[39m=\u001b[39;49m\u001b[39mself\u001b[39;49m\u001b[39m.\u001b[39;49moptions\u001b[39m.\u001b[39;49mget(\u001b[39m\"\u001b[39;49m\u001b[39mcompression\u001b[39;49m\u001b[39m\"\u001b[39;49m, \u001b[39mNone\u001b[39;49;00m),\n\u001b[0;32m   1740\u001b[0m     memory_map\u001b[39m=\u001b[39;49m\u001b[39mself\u001b[39;49m\u001b[39m.\u001b[39;49moptions\u001b[39m.\u001b[39;49mget(\u001b[39m\"\u001b[39;49m\u001b[39mmemory_map\u001b[39;49m\u001b[39m\"\u001b[39;49m, \u001b[39mFalse\u001b[39;49;00m),\n\u001b[0;32m   1741\u001b[0m     is_text\u001b[39m=\u001b[39;49mis_text,\n\u001b[0;32m   1742\u001b[0m     errors\u001b[39m=\u001b[39;49m\u001b[39mself\u001b[39;49m\u001b[39m.\u001b[39;49moptions\u001b[39m.\u001b[39;49mget(\u001b[39m\"\u001b[39;49m\u001b[39mencoding_errors\u001b[39;49m\u001b[39m\"\u001b[39;49m, \u001b[39m\"\u001b[39;49m\u001b[39mstrict\u001b[39;49m\u001b[39m\"\u001b[39;49m),\n\u001b[0;32m   1743\u001b[0m     storage_options\u001b[39m=\u001b[39;49m\u001b[39mself\u001b[39;49m\u001b[39m.\u001b[39;49moptions\u001b[39m.\u001b[39;49mget(\u001b[39m\"\u001b[39;49m\u001b[39mstorage_options\u001b[39;49m\u001b[39m\"\u001b[39;49m, \u001b[39mNone\u001b[39;49;00m),\n\u001b[0;32m   1744\u001b[0m )\n\u001b[0;32m   1745\u001b[0m \u001b[39massert\u001b[39;00m \u001b[39mself\u001b[39m\u001b[39m.\u001b[39mhandles \u001b[39mis\u001b[39;00m \u001b[39mnot\u001b[39;00m \u001b[39mNone\u001b[39;00m\n\u001b[0;32m   1746\u001b[0m f \u001b[39m=\u001b[39m \u001b[39mself\u001b[39m\u001b[39m.\u001b[39mhandles\u001b[39m.\u001b[39mhandle\n",
            "File \u001b[1;32mc:\\Users\\eabdy\\AppData\\Local\\Programs\\Python\\Python311\\Lib\\site-packages\\pandas\\io\\common.py:856\u001b[0m, in \u001b[0;36mget_handle\u001b[1;34m(path_or_buf, mode, encoding, compression, memory_map, is_text, errors, storage_options)\u001b[0m\n\u001b[0;32m    851\u001b[0m \u001b[39melif\u001b[39;00m \u001b[39misinstance\u001b[39m(handle, \u001b[39mstr\u001b[39m):\n\u001b[0;32m    852\u001b[0m     \u001b[39m# Check whether the filename is to be opened in binary mode.\u001b[39;00m\n\u001b[0;32m    853\u001b[0m     \u001b[39m# Binary mode does not support 'encoding' and 'newline'.\u001b[39;00m\n\u001b[0;32m    854\u001b[0m     \u001b[39mif\u001b[39;00m ioargs\u001b[39m.\u001b[39mencoding \u001b[39mand\u001b[39;00m \u001b[39m\"\u001b[39m\u001b[39mb\u001b[39m\u001b[39m\"\u001b[39m \u001b[39mnot\u001b[39;00m \u001b[39min\u001b[39;00m ioargs\u001b[39m.\u001b[39mmode:\n\u001b[0;32m    855\u001b[0m         \u001b[39m# Encoding\u001b[39;00m\n\u001b[1;32m--> 856\u001b[0m         handle \u001b[39m=\u001b[39m \u001b[39mopen\u001b[39;49m(\n\u001b[0;32m    857\u001b[0m             handle,\n\u001b[0;32m    858\u001b[0m             ioargs\u001b[39m.\u001b[39;49mmode,\n\u001b[0;32m    859\u001b[0m             encoding\u001b[39m=\u001b[39;49mioargs\u001b[39m.\u001b[39;49mencoding,\n\u001b[0;32m    860\u001b[0m             errors\u001b[39m=\u001b[39;49merrors,\n\u001b[0;32m    861\u001b[0m             newline\u001b[39m=\u001b[39;49m\u001b[39m\"\u001b[39;49m\u001b[39m\"\u001b[39;49m,\n\u001b[0;32m    862\u001b[0m         )\n\u001b[0;32m    863\u001b[0m     \u001b[39melse\u001b[39;00m:\n\u001b[0;32m    864\u001b[0m         \u001b[39m# Binary mode\u001b[39;00m\n\u001b[0;32m    865\u001b[0m         handle \u001b[39m=\u001b[39m \u001b[39mopen\u001b[39m(handle, ioargs\u001b[39m.\u001b[39mmode)\n",
            "\u001b[1;31mFileNotFoundError\u001b[0m: [Errno 2] No such file or directory: 'video_games_sales.csv'"
          ]
        }
      ],
      "source": [
        "# import the datafile \"video_games_sales.csv\"\n",
        "# https://www.kaggle.com/datasets/hamedetezadi/video-games-sales-dataset\n",
        "\n",
        "df  = pd.read_csv('video_games_sales.csv')"
      ]
    },
    {
      "cell_type": "markdown",
      "metadata": {
        "id": "WocQufEXocYo"
      },
      "source": [
        "This dataset contains a list of video games with sales greater than 100,000 copies. (It was generated by a scrape of vgchartz.com)\n",
        ".\n",
        "\n",
        "Fields include\n",
        "\n",
        "- Rank - Ranking of overall sales\n",
        "- Name - The games name\n",
        "- Platform - Platform of the games release (i.e. PC,PS4, etc.)\n",
        "- Year - Year of the game's release\n",
        "- Genre - Genre of the game\n",
        "- Publisher - Publisher of the game\n",
        "- NA_Sales - Sales in North America (in millions)\n",
        "- EU_Sales - Sales in Europe (in millions)\n",
        "- JP_Sales - Sales in Japan (in millions)\n",
        "- Other_Sales - Sales in the rest of the world (in millions)\n",
        "- Global_Sales - Total worldwide sales."
      ]
    },
    {
      "cell_type": "markdown",
      "metadata": {
        "id": "v9dWr3Y4ocYp"
      },
      "source": [
        "**1. Show the first 5 items of dataframe (★☆☆)**"
      ]
    },
    {
      "cell_type": "code",
      "execution_count": null,
      "metadata": {
        "id": "-bpU27oGocYp"
      },
      "outputs": [],
      "source": [
        "# show the first 5 items of dataframe\n"
      ]
    },
    {
      "cell_type": "markdown",
      "metadata": {
        "id": "VyZlmOswocYq"
      },
      "source": [
        "**2. Print the column names  (★☆☆)**"
      ]
    },
    {
      "cell_type": "code",
      "execution_count": null,
      "metadata": {
        "id": "Ky3PX37NocYq"
      },
      "outputs": [],
      "source": [
        "# print the column names\n",
        "\n"
      ]
    },
    {
      "cell_type": "markdown",
      "metadata": {
        "id": "kJ0wvtOoocYr"
      },
      "source": [
        "**3. Show the first 5 items of dataframe sorted by year of release (newest first) (★☆☆)**"
      ]
    },
    {
      "cell_type": "code",
      "execution_count": null,
      "metadata": {
        "id": "PnNx6RyWocYr"
      },
      "outputs": [],
      "source": [
        "# show the first 5 items of dataframe sorted by year of release (newest first)\n",
        "\n"
      ]
    },
    {
      "cell_type": "markdown",
      "metadata": {
        "id": "ROgQ_CaZocYr"
      },
      "source": [
        "**4. What is the mean of \"Years of Release\" feature? Show  (★☆☆)**"
      ]
    },
    {
      "cell_type": "code",
      "execution_count": null,
      "metadata": {
        "id": "Z-agHZumocYs"
      },
      "outputs": [],
      "source": [
        "# What is the mean of \"Years of Release\" feature?  Show\n",
        "\n"
      ]
    },
    {
      "cell_type": "markdown",
      "metadata": {
        "id": "MaeLj8GpocYs"
      },
      "source": [
        "**5. Show first 5 games was published by \"Sega\"? (★☆☆)**"
      ]
    },
    {
      "cell_type": "code",
      "execution_count": null,
      "metadata": {
        "id": "j8KUkwuWocYs"
      },
      "outputs": [],
      "source": [
        "# Show first 5 games was published by \"Sega\"?\n",
        "\n"
      ]
    },
    {
      "cell_type": "markdown",
      "metadata": {
        "id": "El-TueZgocYs"
      },
      "source": [
        "**6. Show the dataframe with games that was Published by \"Ubisoft\" and 'Sports' genre  (★☆☆)**"
      ]
    },
    {
      "cell_type": "code",
      "execution_count": null,
      "metadata": {
        "id": "qZLHnT8tocYs"
      },
      "outputs": [],
      "source": [
        "# Show the dataframe with games that was Published by \"Ubisoft\" and 'Sports' genre\n",
        "\n"
      ]
    },
    {
      "cell_type": "markdown",
      "metadata": {
        "id": "XeJClmhfocYt"
      },
      "source": [
        "**7. What is the name of game which has the maximum sales in EU? Show (★☆☆)**"
      ]
    },
    {
      "cell_type": "code",
      "execution_count": null,
      "metadata": {
        "id": "eaF5fdydocYt"
      },
      "outputs": [],
      "source": [
        "# What is the name of game which has the maximum sales in EU? Show\n",
        "\n"
      ]
    },
    {
      "cell_type": "markdown",
      "metadata": {
        "id": "NeY1bk6wocYt"
      },
      "source": [
        "**8. Calculate the difference between the maximum and minimum of global sales? (★★☆)**"
      ]
    },
    {
      "cell_type": "code",
      "execution_count": null,
      "metadata": {
        "id": "qTjyGziAocYt"
      },
      "outputs": [],
      "source": [
        "# Calculate the difference between the maximum and minimum of global sales?\n",
        "\n"
      ]
    },
    {
      "cell_type": "markdown",
      "metadata": {
        "id": "fLIbZRTEocYt"
      },
      "source": [
        "**9. Show the histogram of Critic Score  (★★☆)**"
      ]
    },
    {
      "cell_type": "code",
      "execution_count": null,
      "metadata": {
        "id": "SqT8qIvFocYu"
      },
      "outputs": [],
      "source": [
        "# Show the histogram of Critic Score\n",
        "\n"
      ]
    },
    {
      "cell_type": "markdown",
      "metadata": {
        "id": "n05tmsn9ocYu"
      },
      "source": [
        "**10. Show the histogram of Critic Score of games released in 2010 (★★☆)**"
      ]
    },
    {
      "cell_type": "code",
      "execution_count": null,
      "metadata": {
        "id": "dVfD-pOzocYv"
      },
      "outputs": [],
      "source": [
        "# Show the histogram of Critic Score of games released in 2010\n",
        "\n"
      ]
    }
  ],
  "metadata": {
    "colab": {
      "provenance": []
    },
    "kernelspec": {
      "display_name": "Python 3",
      "language": "python",
      "name": "python3"
    },
    "language_info": {
      "codemirror_mode": {
        "name": "ipython",
        "version": 3
      },
      "file_extension": ".py",
      "mimetype": "text/x-python",
      "name": "python",
      "nbconvert_exporter": "python",
      "pygments_lexer": "ipython3",
      "version": "3.11.2"
    }
  },
  "nbformat": 4,
  "nbformat_minor": 0
}
