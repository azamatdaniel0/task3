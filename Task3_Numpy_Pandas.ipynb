{
  "cells": [
    {
      "cell_type": "markdown",
      "metadata": {
        "id": "6IjLMZXRocXp"
      },
      "source": [
        "# Lab 1 and 2 (NumPy, Pandas - 10 points)"
      ]
    },
    {
      "cell_type": "code",
      "execution_count": 1,
      "metadata": {
        "id": "X3khonh8ocX2"
      },
      "outputs": [],
      "source": [
        "#import here all needed libraries\n",
        "import numpy as np\n",
        "import pandas as pd\n",
        "from matplotlib import pyplot as pyplot\n",
        "import seaborn as sbn"
      ]
    },
    {
      "cell_type": "markdown",
      "metadata": {
        "id": "8_EIT0XmocYF"
      },
      "source": [
        "-----\n",
        "\n",
        "## NumPy"
      ]
    },
    {
      "cell_type": "markdown",
      "metadata": {
        "id": "N2eV09XXocYH"
      },
      "source": [
        "#### 1. Create a null vector of size 10 (★☆☆)"
      ]
    },
    {
      "cell_type": "code",
      "execution_count": 2,
      "metadata": {
        "colab": {
          "base_uri": "https://localhost:8080/"
        },
        "id": "FFfirDcgocYI",
        "outputId": "ef8d4a1b-f863-40c7-ae30-5efcdf36551b"
      },
      "outputs": [
        {
          "output_type": "execute_result",
          "data": {
            "text/plain": [
              "array([0., 0., 0., 0., 0., 0., 0., 0., 0., 0.])"
            ]
          },
          "metadata": {},
          "execution_count": 2
        }
      ],
      "source": [
        "# your solution\n",
        "a = np.zeros(10)\n",
        "a"
      ]
    },
    {
      "cell_type": "markdown",
      "metadata": {
        "id": "YhM3oK3UocYM"
      },
      "source": [
        "#### 2. Create a vector with values ranging from 10 to 49 (★☆☆)"
      ]
    },
    {
      "cell_type": "code",
      "execution_count": 3,
      "metadata": {
        "colab": {
          "base_uri": "https://localhost:8080/"
        },
        "id": "9MNOfDlHocYN",
        "outputId": "a0986130-a8cd-479f-ae16-0423a33a0ace"
      },
      "outputs": [
        {
          "output_type": "execute_result",
          "data": {
            "text/plain": [
              "array([10, 11, 12, 13, 14, 15, 16, 17, 18, 19, 20, 21, 22, 23, 24, 25, 26,\n",
              "       27, 28, 29, 30, 31, 32, 33, 34, 35, 36, 37, 38, 39, 40, 41, 42, 43,\n",
              "       44, 45, 46, 47, 48, 49])"
            ]
          },
          "metadata": {},
          "execution_count": 3
        }
      ],
      "source": [
        "# your solution\n",
        "a = np.arange(10, 50)\n",
        "a"
      ]
    },
    {
      "cell_type": "markdown",
      "metadata": {
        "id": "HE-mEgYFocYO"
      },
      "source": [
        "#### 3. Create a 3x3 matrix with values ranging from 0 to 8 (★☆☆)"
      ]
    },
    {
      "cell_type": "code",
      "execution_count": 5,
      "metadata": {
        "colab": {
          "base_uri": "https://localhost:8080/"
        },
        "id": "erLx5eCBocYP",
        "outputId": "189e2e74-49cd-42a1-a3c4-7d2bea1b092f"
      },
      "outputs": [
        {
          "output_type": "execute_result",
          "data": {
            "text/plain": [
              "array([[0, 1, 2],\n",
              "       [3, 4, 5],\n",
              "       [6, 7, 8]])"
            ]
          },
          "metadata": {},
          "execution_count": 5
        }
      ],
      "source": [
        "# your solution\n",
        "a = np.arange(0, 9).reshape(3,3)\n",
        "a"
      ]
    },
    {
      "cell_type": "markdown",
      "metadata": {
        "id": "DF36pxj-ocYR"
      },
      "source": [
        "#### 4. Create a 10x10 array with random values and find the minimum and maximum values (★☆☆)\n",
        "`hint: np.random.random()`"
      ]
    },
    {
      "cell_type": "code",
      "execution_count": 12,
      "metadata": {
        "colab": {
          "base_uri": "https://localhost:8080/"
        },
        "id": "rsoUgBd7ocYV",
        "outputId": "62fb4e0c-8542-490e-9fee-b944caa82491"
      },
      "outputs": [
        {
          "output_type": "stream",
          "name": "stdout",
          "text": [
            "[[0.11939039 0.3886149  0.6016984  0.48451535 0.82606604 0.06622805\n",
            "  0.74089718 0.51460523 0.62308656 0.65367018]\n",
            " [0.09436099 0.70156467 0.85202848 0.30368349 0.508359   0.12579314\n",
            "  0.87309893 0.00719616 0.11955834 0.45503152]\n",
            " [0.77602474 0.31678068 0.55881714 0.93007483 0.69119927 0.47583595\n",
            "  0.29047457 0.50598912 0.11001123 0.82464951]\n",
            " [0.28932191 0.19721098 0.62381855 0.96639067 0.12853156 0.83023671\n",
            "  0.20888977 0.1026946  0.28541577 0.16847604]\n",
            " [0.10398831 0.19190065 0.70178216 0.56932869 0.81127758 0.17282582\n",
            "  0.79422355 0.02641066 0.21436228 0.1410844 ]\n",
            " [0.85380701 0.33347103 0.51332771 0.24489101 0.91526812 0.94504725\n",
            "  0.75917667 0.72347775 0.77778288 0.59045656]\n",
            " [0.27075258 0.56388777 0.61367254 0.15616574 0.30052811 0.73388383\n",
            "  0.54251564 0.95255539 0.55012834 0.44178999]\n",
            " [0.98172641 0.51848053 0.28291295 0.53744584 0.2590504  0.44283279\n",
            "  0.55381012 0.50122341 0.93809253 0.20636961]\n",
            " [0.75066302 0.64409104 0.48344649 0.02611197 0.43055755 0.00468994\n",
            "  0.89799992 0.08760959 0.14092475 0.00873724]\n",
            " [0.85333391 0.11140532 0.87197552 0.6906155  0.83733685 0.33156861\n",
            "  0.61928107 0.97929994 0.9474001  0.49527052]]\n",
            "\n",
            "max: 0.9817264102404389, min:0.004689943517006356\n"
          ]
        }
      ],
      "source": [
        "# your solution\n",
        "a = np.random.random(100).reshape(10,10)\n",
        "print(a)\n",
        "print()\n",
        "print(f'max: {np.max(a)}, min:{np.min(a)}')"
      ]
    },
    {
      "cell_type": "markdown",
      "metadata": {
        "id": "6XdoSVafocYW"
      },
      "source": [
        "#### 5. Create the given matrix: (★☆☆)\n",
        "```\n",
        "[[0 0 0 0 0]\n",
        " [1 0 0 0 0]\n",
        " [0 2 0 0 0]\n",
        " [0 0 3 0 0]\n",
        " [0 0 0 4 0]]\n",
        " ```"
      ]
    },
    {
      "cell_type": "code",
      "execution_count": 16,
      "metadata": {
        "colab": {
          "base_uri": "https://localhost:8080/"
        },
        "id": "m48FDpuxocYX",
        "outputId": "22c26ea5-3ee6-499f-fddf-8eff1a9658dc"
      },
      "outputs": [
        {
          "output_type": "execute_result",
          "data": {
            "text/plain": [
              "array([[0, 0, 0, 0, 0],\n",
              "       [1, 0, 0, 0, 0],\n",
              "       [0, 2, 0, 0, 0],\n",
              "       [0, 0, 3, 0, 0],\n",
              "       [0, 0, 0, 4, 0]])"
            ]
          },
          "metadata": {},
          "execution_count": 16
        }
      ],
      "source": [
        "# your solution\n",
        "a = np.array([[0,0,0,0,0],\n",
        "                [1, 0, 0, 0, 0],\n",
        "                [0, 2 ,0, 0, 0],\n",
        "                [0, 0, 3, 0, 0],\n",
        "                [0, 0, 0, 4, 0]])\n",
        "a"
      ]
    },
    {
      "cell_type": "markdown",
      "metadata": {
        "id": "Xl95i1V_ocYY"
      },
      "source": [
        "#### Run the code below to get the matrix for the tasks from 6 to 10:"
      ]
    },
    {
      "cell_type": "code",
      "execution_count": 19,
      "metadata": {
        "colab": {
          "base_uri": "https://localhost:8080/"
        },
        "id": "khMjUhggocYZ",
        "outputId": "9a83bd60-571f-4bbd-e4a6-82e520ffd414"
      },
      "outputs": [
        {
          "output_type": "execute_result",
          "data": {
            "text/plain": [
              "array([[37., 95., 73., 60., 16., 16.,  6.],\n",
              "       [87., 60., 71.,  2., 97., 83., 21.],\n",
              "       [18., 18., 30., 52., 43., 29., 61.],\n",
              "       [14., 29., 37., 46., 79., 20., 51.],\n",
              "       [59.,  5., 61., 17.,  7., 95., 97.],\n",
              "       [81., 30., 10., 68., 44., 12., 50.],\n",
              "       [ 3., 91., 26., 66., 31., 52., 55.],\n",
              "       [18., 97., 78., 94., 89., 60., 92.],\n",
              "       [ 9., 20.,  5., 33., 39., 27., 83.]])"
            ]
          },
          "metadata": {},
          "execution_count": 19
        }
      ],
      "source": [
        "np.random.seed(42)\n",
        "a = np.array([[37., 95., 73., 60., 16., 16.,  6.],\n",
        " [87., 60., 71.,  2., 97., 83., 21.],\n",
        " [18., 18., 30., 52., 43., 29., 61.],\n",
        " [14., 29., 37., 46., 79., 20., 51.],\n",
        " [59.,  5., 61., 17.,  7., 95., 97.],\n",
        " [81., 30., 10., 68., 44., 12., 50.],\n",
        " [ 3., 91., 26., 66., 31., 52., 55.],\n",
        " [18., 97., 78., 94., 89., 60., 92.],\n",
        " [ 9., 20., 5., 33., 39., 27., 83.]])\n",
        "a"
      ]
    },
    {
      "cell_type": "markdown",
      "metadata": {
        "id": "HnhCrUkqocYa"
      },
      "source": [
        "#### 6. Print the first and the last row with one slice operation  (★☆☆)"
      ]
    },
    {
      "cell_type": "code",
      "execution_count": 21,
      "metadata": {
        "colab": {
          "base_uri": "https://localhost:8080/"
        },
        "id": "Bl_NC1akocYb",
        "outputId": "616978b7-7172-421f-c8cc-2c0155eb23da"
      },
      "outputs": [
        {
          "output_type": "execute_result",
          "data": {
            "text/plain": [
              "array([[37., 95., 73., 60., 16., 16.,  6.],\n",
              "       [ 9., 20.,  5., 33., 39., 27., 83.]])"
            ]
          },
          "metadata": {},
          "execution_count": 21
        }
      ],
      "source": [
        "# your solution\n",
        "np.array([a[0], a[-1]])"
      ]
    },
    {
      "cell_type": "markdown",
      "metadata": {
        "id": "KlfXWoQQocYc"
      },
      "source": [
        "#### 7. Print all elements less than 10  (★☆☆)"
      ]
    },
    {
      "cell_type": "code",
      "execution_count": 23,
      "metadata": {
        "colab": {
          "base_uri": "https://localhost:8080/"
        },
        "id": "Dsu_xkMAocYc",
        "outputId": "a37115cb-6362-4676-b24c-57c93bc6a416"
      },
      "outputs": [
        {
          "output_type": "execute_result",
          "data": {
            "text/plain": [
              "array([6., 2., 5., 7., 3., 9., 5.])"
            ]
          },
          "metadata": {},
          "execution_count": 23
        }
      ],
      "source": [
        "# your solution\n",
        "a[a<10]"
      ]
    },
    {
      "cell_type": "markdown",
      "metadata": {
        "id": "1Ia4ozM4ocYd"
      },
      "source": [
        "#### 8. Print each even row  (★☆☆)"
      ]
    },
    {
      "cell_type": "code",
      "execution_count": 27,
      "metadata": {
        "colab": {
          "base_uri": "https://localhost:8080/"
        },
        "id": "kp0Fqd43ocYe",
        "outputId": "edfde979-1399-4ee0-e0ea-fa70e7027b5b"
      },
      "outputs": [
        {
          "output_type": "execute_result",
          "data": {
            "text/plain": [
              "array([[37., 95., 73., 60., 16., 16.,  6.],\n",
              "       [18., 18., 30., 52., 43., 29., 61.],\n",
              "       [59.,  5., 61., 17.,  7., 95., 97.],\n",
              "       [ 3., 91., 26., 66., 31., 52., 55.],\n",
              "       [ 9., 20.,  5., 33., 39., 27., 83.]])"
            ]
          },
          "metadata": {},
          "execution_count": 27
        }
      ],
      "source": [
        "# your solution\n",
        "a[[i for i in range(a.shape[0]) if i%2==0]]"
      ]
    },
    {
      "cell_type": "markdown",
      "metadata": {
        "id": "OcPwC14socYe"
      },
      "source": [
        "#### 9. Print each odd column  (★☆☆)"
      ]
    },
    {
      "cell_type": "code",
      "execution_count": 29,
      "metadata": {
        "colab": {
          "base_uri": "https://localhost:8080/"
        },
        "id": "6GpABbPsocYf",
        "outputId": "48e14416-f1e2-48dc-ad49-3ab04ecf2fe9"
      },
      "outputs": [
        {
          "output_type": "execute_result",
          "data": {
            "text/plain": [
              "array([[95., 60., 16.],\n",
              "       [60.,  2., 83.],\n",
              "       [18., 52., 29.],\n",
              "       [29., 46., 20.],\n",
              "       [ 5., 17., 95.],\n",
              "       [30., 68., 12.],\n",
              "       [91., 66., 52.],\n",
              "       [97., 94., 60.],\n",
              "       [20., 33., 27.]])"
            ]
          },
          "metadata": {},
          "execution_count": 29
        }
      ],
      "source": [
        "# your solution\n",
        "a[:, [i for i in range(a.shape[1]) if i%2!=0]]"
      ]
    },
    {
      "cell_type": "markdown",
      "metadata": {
        "id": "B2qerMJAocYf"
      },
      "source": [
        "#### 10. Create the copy of this matrix and name it M2  (★☆☆)"
      ]
    },
    {
      "cell_type": "code",
      "execution_count": 31,
      "metadata": {
        "id": "AzVxpHkxocYg",
        "colab": {
          "base_uri": "https://localhost:8080/"
        },
        "outputId": "e8a3031c-ccc6-4088-e973-8fe13fe94a63"
      },
      "outputs": [
        {
          "output_type": "execute_result",
          "data": {
            "text/plain": [
              "array([[37., 95., 73., 60., 16., 16.,  6.],\n",
              "       [87., 60., 71.,  2., 97., 83., 21.],\n",
              "       [18., 18., 30., 52., 43., 29., 61.],\n",
              "       [14., 29., 37., 46., 79., 20., 51.],\n",
              "       [59.,  5., 61., 17.,  7., 95., 97.],\n",
              "       [81., 30., 10., 68., 44., 12., 50.],\n",
              "       [ 3., 91., 26., 66., 31., 52., 55.],\n",
              "       [18., 97., 78., 94., 89., 60., 92.],\n",
              "       [ 9., 20.,  5., 33., 39., 27., 83.]])"
            ]
          },
          "metadata": {},
          "execution_count": 31
        }
      ],
      "source": [
        "# your solution\n",
        "b = np.copy(a)\n",
        "b"
      ]
    },
    {
      "cell_type": "markdown",
      "metadata": {
        "id": "xgC5kZ2LocYg"
      },
      "source": [
        "#### 11. Find the mean of each row of M1 (★★☆)"
      ]
    },
    {
      "cell_type": "code",
      "execution_count": 34,
      "metadata": {
        "colab": {
          "base_uri": "https://localhost:8080/"
        },
        "id": "C0jvPUZqocYg",
        "outputId": "8dca32c5-18e8-479f-e751-7d0eb40ed5e2"
      },
      "outputs": [
        {
          "output_type": "execute_result",
          "data": {
            "text/plain": [
              "array([43.28571429, 60.14285714, 35.85714286, 39.42857143, 48.71428571,\n",
              "       42.14285714, 46.28571429, 75.42857143, 30.85714286])"
            ]
          },
          "metadata": {},
          "execution_count": 34
        }
      ],
      "source": [
        "# your solutionSSSS\n",
        "a.mean(axis=1)"
      ]
    },
    {
      "cell_type": "markdown",
      "metadata": {
        "id": "r0E4Il-wocYg"
      },
      "source": [
        "#### 12. Create the following matrix: (★☆☆)\n",
        "```\n",
        "[[5, 5, 5, 5, 5],\n",
        " [5, 5, 5, 5, 5],\n",
        " [5, 5, 5, 5, 5]]\n",
        "```"
      ]
    },
    {
      "cell_type": "code",
      "execution_count": 38,
      "metadata": {
        "colab": {
          "base_uri": "https://localhost:8080/"
        },
        "id": "w8EYvKV2ocYh",
        "outputId": "7dfae0e4-05d7-4003-bb71-1a1900155926"
      },
      "outputs": [
        {
          "output_type": "execute_result",
          "data": {
            "text/plain": [
              "array([[5, 5, 5, 5, 5],\n",
              "       [5, 5, 5, 5, 5],\n",
              "       [5, 5, 5, 5, 5]])"
            ]
          },
          "metadata": {},
          "execution_count": 38
        }
      ],
      "source": [
        "# your solution\n",
        "a = np.full(15, 5).reshape(3,5)\n",
        "a"
      ]
    },
    {
      "cell_type": "markdown",
      "metadata": {
        "id": "wn_GSooJocYi"
      },
      "source": [
        "#### 13. Add this two arrays and calculate the square of each element: (★★☆)\n",
        "\n",
        "```\n",
        "arrayOne = numpy.array([[5, 6, 9], [21 ,18, 27]])\n",
        "arrayTwo = numpy.array([[15 ,33, 24], [4 ,7, 1]])\n",
        "\n",
        "Result array after calculating the square root of all elements\n",
        "\n",
        "[[ 400 1521 1089]\n",
        " [ 625  625  784]]\n",
        "```"
      ]
    },
    {
      "cell_type": "code",
      "execution_count": 39,
      "metadata": {
        "colab": {
          "base_uri": "https://localhost:8080/"
        },
        "id": "H1EnODS7ocYl",
        "outputId": "b5ca1db3-7011-429b-f973-07259baa53cb"
      },
      "outputs": [
        {
          "output_type": "execute_result",
          "data": {
            "text/plain": [
              "array([[ 400, 1521, 1089],\n",
              "       [ 625,  625,  784]])"
            ]
          },
          "metadata": {},
          "execution_count": 39
        }
      ],
      "source": [
        "# your solution\n",
        "arrayOne = np.array([[5, 6, 9], [21 ,18, 27]])\n",
        "arrayTwo = np.array([[15 ,33, 24], [4 ,7, 1]])\n",
        "\n",
        "(arrayOne + arrayTwo)**2 "
      ]
    },
    {
      "cell_type": "markdown",
      "metadata": {
        "id": "gsMgbNf7ocYl"
      },
      "source": [
        "### Hard level Bonus"
      ]
    },
    {
      "cell_type": "markdown",
      "metadata": {
        "id": "tcoJOc3socYm"
      },
      "source": [
        "#### 14. Create the following matrix and get the highlighted parts with indexing and slicing: (★★★)"
      ]
    },
    {
      "cell_type": "code",
      "execution_count": 46,
      "metadata": {
        "colab": {
          "base_uri": "https://localhost:8080/"
        },
        "id": "MscssH-TocYm",
        "outputId": "b4433be5-b38a-42b0-d1c7-35a002cf0791"
      },
      "outputs": [
        {
          "output_type": "execute_result",
          "data": {
            "text/plain": [
              "array([[11, 12, 13, 14, 15],\n",
              "       [16, 17, 18, 19, 20],\n",
              "       [21, 22, 23, 24, 25],\n",
              "       [26, 27, 28, 29, 30],\n",
              "       [31, 32, 33, 34, 35]])"
            ]
          },
          "metadata": {},
          "execution_count": 46
        }
      ],
      "source": [
        "# your solution\n",
        "\n",
        "a = np.arange(11,36).reshape(5,5)\n",
        "a"
      ]
    },
    {
      "cell_type": "code",
      "source": [
        "a[::2,::2]"
      ],
      "metadata": {
        "colab": {
          "base_uri": "https://localhost:8080/"
        },
        "id": "Qkg10xbuzNWw",
        "outputId": "5e28eeab-dffb-442d-a9cd-1c74b005eff1"
      },
      "execution_count": 54,
      "outputs": [
        {
          "output_type": "execute_result",
          "data": {
            "text/plain": [
              "array([[11, 13, 15],\n",
              "       [21, 23, 25],\n",
              "       [31, 33, 35]])"
            ]
          },
          "metadata": {},
          "execution_count": 54
        }
      ]
    },
    {
      "cell_type": "code",
      "source": [
        "a[0,1:4]"
      ],
      "metadata": {
        "colab": {
          "base_uri": "https://localhost:8080/"
        },
        "id": "YJdqTbbq187M",
        "outputId": "d96f064c-08ea-4d8a-fd92-323feb1d8d06"
      },
      "execution_count": 48,
      "outputs": [
        {
          "output_type": "execute_result",
          "data": {
            "text/plain": [
              "array([12, 13, 14])"
            ]
          },
          "metadata": {},
          "execution_count": 48
        }
      ]
    },
    {
      "cell_type": "code",
      "source": [
        "#  ne delat\n",
        "a[1:4,0].reshape(-1,1)"
      ],
      "metadata": {
        "colab": {
          "base_uri": "https://localhost:8080/"
        },
        "id": "uBZmISSj2uKS",
        "outputId": "0cb20f77-ccec-4629-dc91-e1b0e223a5b4"
      },
      "execution_count": 50,
      "outputs": [
        {
          "output_type": "execute_result",
          "data": {
            "text/plain": [
              "array([[16],\n",
              "       [21],\n",
              "       [26]])"
            ]
          },
          "metadata": {},
          "execution_count": 50
        }
      ]
    },
    {
      "cell_type": "code",
      "source": [
        "# ne delat\n",
        "a[:,1].reshape(-1,1)"
      ],
      "metadata": {
        "colab": {
          "base_uri": "https://localhost:8080/"
        },
        "id": "ObHtdUnz3KL8",
        "outputId": "b68ddf0a-152d-4c00-8226-5791ea765f21"
      },
      "execution_count": 53,
      "outputs": [
        {
          "output_type": "execute_result",
          "data": {
            "text/plain": [
              "array([[12],\n",
              "       [17],\n",
              "       [22],\n",
              "       [27],\n",
              "       [32]])"
            ]
          },
          "metadata": {},
          "execution_count": 53
        }
      ]
    },
    {
      "cell_type": "markdown",
      "metadata": {
        "id": "AzXkyq59ocYn"
      },
      "source": [
        "#### 15. Create the following matrix and get the highlighted parts with indexing and slicing: (★★★)"
      ]
    },
    {
      "cell_type": "code",
      "execution_count": 66,
      "metadata": {
        "colab": {
          "base_uri": "https://localhost:8080/"
        },
        "id": "dZo8W5FdocYn",
        "outputId": "f9499dcb-e05b-4019-8240-6a72cb029590"
      },
      "outputs": [
        {
          "output_type": "stream",
          "name": "stdout",
          "text": [
            "[[ 0  1  2  3  4  5]\n",
            " [10 11 12 13 14 15]\n",
            " [20 21 22 23 24 25]\n",
            " [30 31 32 33 34 35]\n",
            " [40 41 42 43 44 45]\n",
            " [50 51 52 53 54 55]]\n"
          ]
        }
      ],
      "source": [
        "# your solution\n",
        "a = np.arange(0,36).reshape(6,6)\n",
        "for i,j in enumerate(a):\n",
        "    a[i] += 4*i\n",
        "print(a)"
      ]
    },
    {
      "cell_type": "code",
      "source": [
        "a[0,3:5]"
      ],
      "metadata": {
        "colab": {
          "base_uri": "https://localhost:8080/"
        },
        "id": "_OkV6eVl1KFf",
        "outputId": "399b00cc-5083-45fc-8510-263c75c0c0d1"
      },
      "execution_count": 67,
      "outputs": [
        {
          "output_type": "execute_result",
          "data": {
            "text/plain": [
              "array([3, 4])"
            ]
          },
          "metadata": {},
          "execution_count": 67
        }
      ]
    },
    {
      "cell_type": "code",
      "source": [
        "a[:,2]"
      ],
      "metadata": {
        "colab": {
          "base_uri": "https://localhost:8080/"
        },
        "id": "SClrIZft5Jfm",
        "outputId": "3530267d-77d3-49fd-cde1-41ad1cad5836"
      },
      "execution_count": 69,
      "outputs": [
        {
          "output_type": "execute_result",
          "data": {
            "text/plain": [
              "array([ 2, 12, 22, 32, 42, 52])"
            ]
          },
          "metadata": {},
          "execution_count": 69
        }
      ]
    },
    {
      "cell_type": "code",
      "source": [
        "a[4:6,4:6]"
      ],
      "metadata": {
        "colab": {
          "base_uri": "https://localhost:8080/"
        },
        "id": "V2_NZJGo5uRB",
        "outputId": "d9d38494-5c8c-45d2-90b5-a01317f822b2"
      },
      "execution_count": 70,
      "outputs": [
        {
          "output_type": "execute_result",
          "data": {
            "text/plain": [
              "array([[44, 45],\n",
              "       [54, 55]])"
            ]
          },
          "metadata": {},
          "execution_count": 70
        }
      ]
    },
    {
      "cell_type": "code",
      "source": [
        "a[2:5:2, 0:6:2]"
      ],
      "metadata": {
        "colab": {
          "base_uri": "https://localhost:8080/"
        },
        "id": "USV_-E9v1bna",
        "outputId": "5f9714ff-9982-4d92-c084-c8b1dfb6c45f"
      },
      "execution_count": 74,
      "outputs": [
        {
          "output_type": "execute_result",
          "data": {
            "text/plain": [
              "array([[20, 22, 24],\n",
              "       [40, 42, 44]])"
            ]
          },
          "metadata": {},
          "execution_count": 74
        }
      ]
    },
    {
      "cell_type": "markdown",
      "metadata": {
        "id": "-WUuj-vjocYo"
      },
      "source": [
        "-----\n",
        "\n",
        "## Pandas (5 points)"
      ]
    },
    {
      "cell_type": "code",
      "source": [
        "!kaggle datasets download -d hamedetezadi/video-games-sales-dataset"
      ],
      "metadata": {
        "colab": {
          "base_uri": "https://localhost:8080/"
        },
        "id": "q1s0vI1K2Qq3",
        "outputId": "78757793-d8a5-4e51-cbe9-f009fadde3eb"
      },
      "execution_count": 78,
      "outputs": [
        {
          "output_type": "stream",
          "name": "stdout",
          "text": [
            "401 - Unauthorized\n"
          ]
        }
      ]
    },
    {
      "cell_type": "code",
      "execution_count": 79,
      "metadata": {
        "id": "sOr-KfI2ocYo"
      },
      "outputs": [],
      "source": [
        "# import the datafile \"video_games_sales.csv\"\n",
        "# https://www.kaggle.com/datasets/hamedetezadi/video-games-sales-dataset\n",
        "\n",
        "df  = pd.read_csv('/vgsales.csv')"
      ]
    },
    {
      "cell_type": "markdown",
      "metadata": {
        "id": "WocQufEXocYo"
      },
      "source": [
        "This dataset contains a list of video games with sales greater than 100,000 copies. (It was generated by a scrape of vgchartz.com)\n",
        ".\n",
        "\n",
        "Fields include\n",
        "\n",
        "- Rank - Ranking of overall sales\n",
        "- Name - The games name\n",
        "- Platform - Platform of the games release (i.e. PC,PS4, etc.)\n",
        "- Year - Year of the game's release\n",
        "- Genre - Genre of the game\n",
        "- Publisher - Publisher of the game\n",
        "- NA_Sales - Sales in North America (in millions)\n",
        "- EU_Sales - Sales in Europe (in millions)\n",
        "- JP_Sales - Sales in Japan (in millions)\n",
        "- Other_Sales - Sales in the rest of the world (in millions)\n",
        "- Global_Sales - Total worldwide sales."
      ]
    },
    {
      "cell_type": "markdown",
      "metadata": {
        "id": "v9dWr3Y4ocYp"
      },
      "source": [
        "**1. Show the first 5 items of dataframe (★☆☆)**"
      ]
    },
    {
      "cell_type": "code",
      "execution_count": 80,
      "metadata": {
        "id": "-bpU27oGocYp",
        "colab": {
          "base_uri": "https://localhost:8080/",
          "height": 268
        },
        "outputId": "42633a8c-4fef-4097-f873-675050894c78"
      },
      "outputs": [
        {
          "output_type": "execute_result",
          "data": {
            "text/plain": [
              "   Rank                      Name Platform    Year         Genre Publisher  \\\n",
              "0     1                Wii Sports      Wii  2006.0        Sports  Nintendo   \n",
              "1     2         Super Mario Bros.      NES  1985.0      Platform  Nintendo   \n",
              "2     3            Mario Kart Wii      Wii  2008.0        Racing  Nintendo   \n",
              "3     4         Wii Sports Resort      Wii  2009.0        Sports  Nintendo   \n",
              "4     5  Pokemon Red/Pokemon Blue       GB  1996.0  Role-Playing  Nintendo   \n",
              "\n",
              "   NA_Sales  EU_Sales  JP_Sales  Other_Sales  Global_Sales  \n",
              "0     41.49     29.02      3.77         8.46         82.74  \n",
              "1     29.08      3.58      6.81         0.77         40.24  \n",
              "2     15.85     12.88      3.79         3.31         35.82  \n",
              "3     15.75     11.01      3.28         2.96         33.00  \n",
              "4     11.27      8.89     10.22         1.00         31.37  "
            ],
            "text/html": [
              "\n",
              "  <div id=\"df-41a483a4-cb66-4c34-b0f3-f9958f16bdf9\">\n",
              "    <div class=\"colab-df-container\">\n",
              "      <div>\n",
              "<style scoped>\n",
              "    .dataframe tbody tr th:only-of-type {\n",
              "        vertical-align: middle;\n",
              "    }\n",
              "\n",
              "    .dataframe tbody tr th {\n",
              "        vertical-align: top;\n",
              "    }\n",
              "\n",
              "    .dataframe thead th {\n",
              "        text-align: right;\n",
              "    }\n",
              "</style>\n",
              "<table border=\"1\" class=\"dataframe\">\n",
              "  <thead>\n",
              "    <tr style=\"text-align: right;\">\n",
              "      <th></th>\n",
              "      <th>Rank</th>\n",
              "      <th>Name</th>\n",
              "      <th>Platform</th>\n",
              "      <th>Year</th>\n",
              "      <th>Genre</th>\n",
              "      <th>Publisher</th>\n",
              "      <th>NA_Sales</th>\n",
              "      <th>EU_Sales</th>\n",
              "      <th>JP_Sales</th>\n",
              "      <th>Other_Sales</th>\n",
              "      <th>Global_Sales</th>\n",
              "    </tr>\n",
              "  </thead>\n",
              "  <tbody>\n",
              "    <tr>\n",
              "      <th>0</th>\n",
              "      <td>1</td>\n",
              "      <td>Wii Sports</td>\n",
              "      <td>Wii</td>\n",
              "      <td>2006.0</td>\n",
              "      <td>Sports</td>\n",
              "      <td>Nintendo</td>\n",
              "      <td>41.49</td>\n",
              "      <td>29.02</td>\n",
              "      <td>3.77</td>\n",
              "      <td>8.46</td>\n",
              "      <td>82.74</td>\n",
              "    </tr>\n",
              "    <tr>\n",
              "      <th>1</th>\n",
              "      <td>2</td>\n",
              "      <td>Super Mario Bros.</td>\n",
              "      <td>NES</td>\n",
              "      <td>1985.0</td>\n",
              "      <td>Platform</td>\n",
              "      <td>Nintendo</td>\n",
              "      <td>29.08</td>\n",
              "      <td>3.58</td>\n",
              "      <td>6.81</td>\n",
              "      <td>0.77</td>\n",
              "      <td>40.24</td>\n",
              "    </tr>\n",
              "    <tr>\n",
              "      <th>2</th>\n",
              "      <td>3</td>\n",
              "      <td>Mario Kart Wii</td>\n",
              "      <td>Wii</td>\n",
              "      <td>2008.0</td>\n",
              "      <td>Racing</td>\n",
              "      <td>Nintendo</td>\n",
              "      <td>15.85</td>\n",
              "      <td>12.88</td>\n",
              "      <td>3.79</td>\n",
              "      <td>3.31</td>\n",
              "      <td>35.82</td>\n",
              "    </tr>\n",
              "    <tr>\n",
              "      <th>3</th>\n",
              "      <td>4</td>\n",
              "      <td>Wii Sports Resort</td>\n",
              "      <td>Wii</td>\n",
              "      <td>2009.0</td>\n",
              "      <td>Sports</td>\n",
              "      <td>Nintendo</td>\n",
              "      <td>15.75</td>\n",
              "      <td>11.01</td>\n",
              "      <td>3.28</td>\n",
              "      <td>2.96</td>\n",
              "      <td>33.00</td>\n",
              "    </tr>\n",
              "    <tr>\n",
              "      <th>4</th>\n",
              "      <td>5</td>\n",
              "      <td>Pokemon Red/Pokemon Blue</td>\n",
              "      <td>GB</td>\n",
              "      <td>1996.0</td>\n",
              "      <td>Role-Playing</td>\n",
              "      <td>Nintendo</td>\n",
              "      <td>11.27</td>\n",
              "      <td>8.89</td>\n",
              "      <td>10.22</td>\n",
              "      <td>1.00</td>\n",
              "      <td>31.37</td>\n",
              "    </tr>\n",
              "  </tbody>\n",
              "</table>\n",
              "</div>\n",
              "      <button class=\"colab-df-convert\" onclick=\"convertToInteractive('df-41a483a4-cb66-4c34-b0f3-f9958f16bdf9')\"\n",
              "              title=\"Convert this dataframe to an interactive table.\"\n",
              "              style=\"display:none;\">\n",
              "        \n",
              "  <svg xmlns=\"http://www.w3.org/2000/svg\" height=\"24px\"viewBox=\"0 0 24 24\"\n",
              "       width=\"24px\">\n",
              "    <path d=\"M0 0h24v24H0V0z\" fill=\"none\"/>\n",
              "    <path d=\"M18.56 5.44l.94 2.06.94-2.06 2.06-.94-2.06-.94-.94-2.06-.94 2.06-2.06.94zm-11 1L8.5 8.5l.94-2.06 2.06-.94-2.06-.94L8.5 2.5l-.94 2.06-2.06.94zm10 10l.94 2.06.94-2.06 2.06-.94-2.06-.94-.94-2.06-.94 2.06-2.06.94z\"/><path d=\"M17.41 7.96l-1.37-1.37c-.4-.4-.92-.59-1.43-.59-.52 0-1.04.2-1.43.59L10.3 9.45l-7.72 7.72c-.78.78-.78 2.05 0 2.83L4 21.41c.39.39.9.59 1.41.59.51 0 1.02-.2 1.41-.59l7.78-7.78 2.81-2.81c.8-.78.8-2.07 0-2.86zM5.41 20L4 18.59l7.72-7.72 1.47 1.35L5.41 20z\"/>\n",
              "  </svg>\n",
              "      </button>\n",
              "      \n",
              "  <style>\n",
              "    .colab-df-container {\n",
              "      display:flex;\n",
              "      flex-wrap:wrap;\n",
              "      gap: 12px;\n",
              "    }\n",
              "\n",
              "    .colab-df-convert {\n",
              "      background-color: #E8F0FE;\n",
              "      border: none;\n",
              "      border-radius: 50%;\n",
              "      cursor: pointer;\n",
              "      display: none;\n",
              "      fill: #1967D2;\n",
              "      height: 32px;\n",
              "      padding: 0 0 0 0;\n",
              "      width: 32px;\n",
              "    }\n",
              "\n",
              "    .colab-df-convert:hover {\n",
              "      background-color: #E2EBFA;\n",
              "      box-shadow: 0px 1px 2px rgba(60, 64, 67, 0.3), 0px 1px 3px 1px rgba(60, 64, 67, 0.15);\n",
              "      fill: #174EA6;\n",
              "    }\n",
              "\n",
              "    [theme=dark] .colab-df-convert {\n",
              "      background-color: #3B4455;\n",
              "      fill: #D2E3FC;\n",
              "    }\n",
              "\n",
              "    [theme=dark] .colab-df-convert:hover {\n",
              "      background-color: #434B5C;\n",
              "      box-shadow: 0px 1px 3px 1px rgba(0, 0, 0, 0.15);\n",
              "      filter: drop-shadow(0px 1px 2px rgba(0, 0, 0, 0.3));\n",
              "      fill: #FFFFFF;\n",
              "    }\n",
              "  </style>\n",
              "\n",
              "      <script>\n",
              "        const buttonEl =\n",
              "          document.querySelector('#df-41a483a4-cb66-4c34-b0f3-f9958f16bdf9 button.colab-df-convert');\n",
              "        buttonEl.style.display =\n",
              "          google.colab.kernel.accessAllowed ? 'block' : 'none';\n",
              "\n",
              "        async function convertToInteractive(key) {\n",
              "          const element = document.querySelector('#df-41a483a4-cb66-4c34-b0f3-f9958f16bdf9');\n",
              "          const dataTable =\n",
              "            await google.colab.kernel.invokeFunction('convertToInteractive',\n",
              "                                                     [key], {});\n",
              "          if (!dataTable) return;\n",
              "\n",
              "          const docLinkHtml = 'Like what you see? Visit the ' +\n",
              "            '<a target=\"_blank\" href=https://colab.research.google.com/notebooks/data_table.ipynb>data table notebook</a>'\n",
              "            + ' to learn more about interactive tables.';\n",
              "          element.innerHTML = '';\n",
              "          dataTable['output_type'] = 'display_data';\n",
              "          await google.colab.output.renderOutput(dataTable, element);\n",
              "          const docLink = document.createElement('div');\n",
              "          docLink.innerHTML = docLinkHtml;\n",
              "          element.appendChild(docLink);\n",
              "        }\n",
              "      </script>\n",
              "    </div>\n",
              "  </div>\n",
              "  "
            ]
          },
          "metadata": {},
          "execution_count": 80
        }
      ],
      "source": [
        "# show the first 5 items of dataframe\n",
        "df.head(5)"
      ]
    },
    {
      "cell_type": "markdown",
      "metadata": {
        "id": "VyZlmOswocYq"
      },
      "source": [
        "**2. Print the column names  (★☆☆)**"
      ]
    },
    {
      "cell_type": "code",
      "execution_count": 81,
      "metadata": {
        "id": "Ky3PX37NocYq",
        "colab": {
          "base_uri": "https://localhost:8080/"
        },
        "outputId": "0b3f4822-2266-4ff2-dbad-e22328224650"
      },
      "outputs": [
        {
          "output_type": "execute_result",
          "data": {
            "text/plain": [
              "Index(['Rank', 'Name', 'Platform', 'Year', 'Genre', 'Publisher', 'NA_Sales',\n",
              "       'EU_Sales', 'JP_Sales', 'Other_Sales', 'Global_Sales'],\n",
              "      dtype='object')"
            ]
          },
          "metadata": {},
          "execution_count": 81
        }
      ],
      "source": [
        "# print the column names\n",
        "df.columns\n"
      ]
    },
    {
      "cell_type": "markdown",
      "metadata": {
        "id": "kJ0wvtOoocYr"
      },
      "source": [
        "**3. Show the first 5 items of dataframe sorted by year of release (newest first) (★☆☆)**"
      ]
    },
    {
      "cell_type": "code",
      "execution_count": 83,
      "metadata": {
        "id": "PnNx6RyWocYr",
        "colab": {
          "base_uri": "https://localhost:8080/",
          "height": 476
        },
        "outputId": "ca099583-c44a-4c04-d104-623a5ccbc92c"
      },
      "outputs": [
        {
          "output_type": "execute_result",
          "data": {
            "text/plain": [
              "        Rank                                              Name Platform  \\\n",
              "5957    5959                            Imagine: Makeup Artist       DS   \n",
              "14390  14393  Phantasy Star Online 2 Episode 4: Deluxe Package      PS4   \n",
              "16241  16244  Phantasy Star Online 2 Episode 4: Deluxe Package      PSV   \n",
              "16438  16441                  Brothers Conflict: Precious Baby      PSV   \n",
              "8293    8295                      Shin Megami Tensei IV: Final      3DS   \n",
              "\n",
              "         Year         Genre     Publisher  NA_Sales  EU_Sales  JP_Sales  \\\n",
              "5957   2020.0    Simulation       Ubisoft      0.27       0.0      0.00   \n",
              "14390  2017.0  Role-Playing          Sega      0.00       0.0      0.03   \n",
              "16241  2017.0  Role-Playing          Sega      0.00       0.0      0.01   \n",
              "16438  2017.0        Action  Idea Factory      0.00       0.0      0.01   \n",
              "8293   2016.0  Role-Playing   Deep Silver      0.03       0.0      0.14   \n",
              "\n",
              "       Other_Sales  Global_Sales  \n",
              "5957          0.02          0.29  \n",
              "14390         0.00          0.03  \n",
              "16241         0.00          0.01  \n",
              "16438         0.00          0.01  \n",
              "8293          0.00          0.17  "
            ],
            "text/html": [
              "\n",
              "  <div id=\"df-48a3513f-048a-4cc7-ac62-c4b81355b857\">\n",
              "    <div class=\"colab-df-container\">\n",
              "      <div>\n",
              "<style scoped>\n",
              "    .dataframe tbody tr th:only-of-type {\n",
              "        vertical-align: middle;\n",
              "    }\n",
              "\n",
              "    .dataframe tbody tr th {\n",
              "        vertical-align: top;\n",
              "    }\n",
              "\n",
              "    .dataframe thead th {\n",
              "        text-align: right;\n",
              "    }\n",
              "</style>\n",
              "<table border=\"1\" class=\"dataframe\">\n",
              "  <thead>\n",
              "    <tr style=\"text-align: right;\">\n",
              "      <th></th>\n",
              "      <th>Rank</th>\n",
              "      <th>Name</th>\n",
              "      <th>Platform</th>\n",
              "      <th>Year</th>\n",
              "      <th>Genre</th>\n",
              "      <th>Publisher</th>\n",
              "      <th>NA_Sales</th>\n",
              "      <th>EU_Sales</th>\n",
              "      <th>JP_Sales</th>\n",
              "      <th>Other_Sales</th>\n",
              "      <th>Global_Sales</th>\n",
              "    </tr>\n",
              "  </thead>\n",
              "  <tbody>\n",
              "    <tr>\n",
              "      <th>5957</th>\n",
              "      <td>5959</td>\n",
              "      <td>Imagine: Makeup Artist</td>\n",
              "      <td>DS</td>\n",
              "      <td>2020.0</td>\n",
              "      <td>Simulation</td>\n",
              "      <td>Ubisoft</td>\n",
              "      <td>0.27</td>\n",
              "      <td>0.0</td>\n",
              "      <td>0.00</td>\n",
              "      <td>0.02</td>\n",
              "      <td>0.29</td>\n",
              "    </tr>\n",
              "    <tr>\n",
              "      <th>14390</th>\n",
              "      <td>14393</td>\n",
              "      <td>Phantasy Star Online 2 Episode 4: Deluxe Package</td>\n",
              "      <td>PS4</td>\n",
              "      <td>2017.0</td>\n",
              "      <td>Role-Playing</td>\n",
              "      <td>Sega</td>\n",
              "      <td>0.00</td>\n",
              "      <td>0.0</td>\n",
              "      <td>0.03</td>\n",
              "      <td>0.00</td>\n",
              "      <td>0.03</td>\n",
              "    </tr>\n",
              "    <tr>\n",
              "      <th>16241</th>\n",
              "      <td>16244</td>\n",
              "      <td>Phantasy Star Online 2 Episode 4: Deluxe Package</td>\n",
              "      <td>PSV</td>\n",
              "      <td>2017.0</td>\n",
              "      <td>Role-Playing</td>\n",
              "      <td>Sega</td>\n",
              "      <td>0.00</td>\n",
              "      <td>0.0</td>\n",
              "      <td>0.01</td>\n",
              "      <td>0.00</td>\n",
              "      <td>0.01</td>\n",
              "    </tr>\n",
              "    <tr>\n",
              "      <th>16438</th>\n",
              "      <td>16441</td>\n",
              "      <td>Brothers Conflict: Precious Baby</td>\n",
              "      <td>PSV</td>\n",
              "      <td>2017.0</td>\n",
              "      <td>Action</td>\n",
              "      <td>Idea Factory</td>\n",
              "      <td>0.00</td>\n",
              "      <td>0.0</td>\n",
              "      <td>0.01</td>\n",
              "      <td>0.00</td>\n",
              "      <td>0.01</td>\n",
              "    </tr>\n",
              "    <tr>\n",
              "      <th>8293</th>\n",
              "      <td>8295</td>\n",
              "      <td>Shin Megami Tensei IV: Final</td>\n",
              "      <td>3DS</td>\n",
              "      <td>2016.0</td>\n",
              "      <td>Role-Playing</td>\n",
              "      <td>Deep Silver</td>\n",
              "      <td>0.03</td>\n",
              "      <td>0.0</td>\n",
              "      <td>0.14</td>\n",
              "      <td>0.00</td>\n",
              "      <td>0.17</td>\n",
              "    </tr>\n",
              "  </tbody>\n",
              "</table>\n",
              "</div>\n",
              "      <button class=\"colab-df-convert\" onclick=\"convertToInteractive('df-48a3513f-048a-4cc7-ac62-c4b81355b857')\"\n",
              "              title=\"Convert this dataframe to an interactive table.\"\n",
              "              style=\"display:none;\">\n",
              "        \n",
              "  <svg xmlns=\"http://www.w3.org/2000/svg\" height=\"24px\"viewBox=\"0 0 24 24\"\n",
              "       width=\"24px\">\n",
              "    <path d=\"M0 0h24v24H0V0z\" fill=\"none\"/>\n",
              "    <path d=\"M18.56 5.44l.94 2.06.94-2.06 2.06-.94-2.06-.94-.94-2.06-.94 2.06-2.06.94zm-11 1L8.5 8.5l.94-2.06 2.06-.94-2.06-.94L8.5 2.5l-.94 2.06-2.06.94zm10 10l.94 2.06.94-2.06 2.06-.94-2.06-.94-.94-2.06-.94 2.06-2.06.94z\"/><path d=\"M17.41 7.96l-1.37-1.37c-.4-.4-.92-.59-1.43-.59-.52 0-1.04.2-1.43.59L10.3 9.45l-7.72 7.72c-.78.78-.78 2.05 0 2.83L4 21.41c.39.39.9.59 1.41.59.51 0 1.02-.2 1.41-.59l7.78-7.78 2.81-2.81c.8-.78.8-2.07 0-2.86zM5.41 20L4 18.59l7.72-7.72 1.47 1.35L5.41 20z\"/>\n",
              "  </svg>\n",
              "      </button>\n",
              "      \n",
              "  <style>\n",
              "    .colab-df-container {\n",
              "      display:flex;\n",
              "      flex-wrap:wrap;\n",
              "      gap: 12px;\n",
              "    }\n",
              "\n",
              "    .colab-df-convert {\n",
              "      background-color: #E8F0FE;\n",
              "      border: none;\n",
              "      border-radius: 50%;\n",
              "      cursor: pointer;\n",
              "      display: none;\n",
              "      fill: #1967D2;\n",
              "      height: 32px;\n",
              "      padding: 0 0 0 0;\n",
              "      width: 32px;\n",
              "    }\n",
              "\n",
              "    .colab-df-convert:hover {\n",
              "      background-color: #E2EBFA;\n",
              "      box-shadow: 0px 1px 2px rgba(60, 64, 67, 0.3), 0px 1px 3px 1px rgba(60, 64, 67, 0.15);\n",
              "      fill: #174EA6;\n",
              "    }\n",
              "\n",
              "    [theme=dark] .colab-df-convert {\n",
              "      background-color: #3B4455;\n",
              "      fill: #D2E3FC;\n",
              "    }\n",
              "\n",
              "    [theme=dark] .colab-df-convert:hover {\n",
              "      background-color: #434B5C;\n",
              "      box-shadow: 0px 1px 3px 1px rgba(0, 0, 0, 0.15);\n",
              "      filter: drop-shadow(0px 1px 2px rgba(0, 0, 0, 0.3));\n",
              "      fill: #FFFFFF;\n",
              "    }\n",
              "  </style>\n",
              "\n",
              "      <script>\n",
              "        const buttonEl =\n",
              "          document.querySelector('#df-48a3513f-048a-4cc7-ac62-c4b81355b857 button.colab-df-convert');\n",
              "        buttonEl.style.display =\n",
              "          google.colab.kernel.accessAllowed ? 'block' : 'none';\n",
              "\n",
              "        async function convertToInteractive(key) {\n",
              "          const element = document.querySelector('#df-48a3513f-048a-4cc7-ac62-c4b81355b857');\n",
              "          const dataTable =\n",
              "            await google.colab.kernel.invokeFunction('convertToInteractive',\n",
              "                                                     [key], {});\n",
              "          if (!dataTable) return;\n",
              "\n",
              "          const docLinkHtml = 'Like what you see? Visit the ' +\n",
              "            '<a target=\"_blank\" href=https://colab.research.google.com/notebooks/data_table.ipynb>data table notebook</a>'\n",
              "            + ' to learn more about interactive tables.';\n",
              "          element.innerHTML = '';\n",
              "          dataTable['output_type'] = 'display_data';\n",
              "          await google.colab.output.renderOutput(dataTable, element);\n",
              "          const docLink = document.createElement('div');\n",
              "          docLink.innerHTML = docLinkHtml;\n",
              "          element.appendChild(docLink);\n",
              "        }\n",
              "      </script>\n",
              "    </div>\n",
              "  </div>\n",
              "  "
            ]
          },
          "metadata": {},
          "execution_count": 83
        }
      ],
      "source": [
        "# show the first 5 items of dataframe sorted by year of release (newest first)\n",
        "\n",
        "df.sort_values('Year', ascending=False).head(5)"
      ]
    },
    {
      "cell_type": "markdown",
      "metadata": {
        "id": "ROgQ_CaZocYr"
      },
      "source": [
        "**4. What is the mean of \"Years of Release\" feature? Show  (★☆☆)**"
      ]
    },
    {
      "cell_type": "code",
      "execution_count": 84,
      "metadata": {
        "id": "Z-agHZumocYs",
        "colab": {
          "base_uri": "https://localhost:8080/"
        },
        "outputId": "acbe6693-f6b2-4afa-c5ab-867698b6b55d"
      },
      "outputs": [
        {
          "output_type": "execute_result",
          "data": {
            "text/plain": [
              "2006.4064433147546"
            ]
          },
          "metadata": {},
          "execution_count": 84
        }
      ],
      "source": [
        "# What is the mean of \"Years of Release\" feature?  Show\n",
        "\n",
        "df.Year.mean()"
      ]
    },
    {
      "cell_type": "markdown",
      "metadata": {
        "id": "MaeLj8GpocYs"
      },
      "source": [
        "**5. Show first 5 games was published by \"Sega\"? (★☆☆)**"
      ]
    },
    {
      "cell_type": "code",
      "execution_count": 87,
      "metadata": {
        "id": "j8KUkwuWocYs",
        "colab": {
          "base_uri": "https://localhost:8080/",
          "height": 406
        },
        "outputId": "431d9439-c531-4492-983a-8f775c0a04a2"
      },
      "outputs": [
        {
          "output_type": "execute_result",
          "data": {
            "text/plain": [
              "        Rank                                              Name Platform  \\\n",
              "16241  16244  Phantasy Star Online 2 Episode 4: Deluxe Package      PSV   \n",
              "14390  14393  Phantasy Star Online 2 Episode 4: Deluxe Package      PS4   \n",
              "14776  14779                            3DS Classic Collection      3DS   \n",
              "13885  13887                      Hatsune Miku: Project Diva X      PS4   \n",
              "9898    9900                      Hatsune Miku: Project Diva X      PSV   \n",
              "\n",
              "         Year         Genre Publisher  NA_Sales  EU_Sales  JP_Sales  \\\n",
              "16241  2017.0  Role-Playing      Sega      0.00       0.0      0.01   \n",
              "14390  2017.0  Role-Playing      Sega      0.00       0.0      0.03   \n",
              "14776  2016.0          Misc      Sega      0.02       0.0      0.00   \n",
              "13885  2016.0          Misc      Sega      0.01       0.0      0.02   \n",
              "9898   2016.0          Misc      Sega      0.01       0.0      0.10   \n",
              "\n",
              "       Other_Sales  Global_Sales  \n",
              "16241          0.0          0.01  \n",
              "14390          0.0          0.03  \n",
              "14776          0.0          0.03  \n",
              "13885          0.0          0.04  \n",
              "9898           0.0          0.12  "
            ],
            "text/html": [
              "\n",
              "  <div id=\"df-7ffeaa8d-9b79-49d9-93b8-2b9a06ed021b\">\n",
              "    <div class=\"colab-df-container\">\n",
              "      <div>\n",
              "<style scoped>\n",
              "    .dataframe tbody tr th:only-of-type {\n",
              "        vertical-align: middle;\n",
              "    }\n",
              "\n",
              "    .dataframe tbody tr th {\n",
              "        vertical-align: top;\n",
              "    }\n",
              "\n",
              "    .dataframe thead th {\n",
              "        text-align: right;\n",
              "    }\n",
              "</style>\n",
              "<table border=\"1\" class=\"dataframe\">\n",
              "  <thead>\n",
              "    <tr style=\"text-align: right;\">\n",
              "      <th></th>\n",
              "      <th>Rank</th>\n",
              "      <th>Name</th>\n",
              "      <th>Platform</th>\n",
              "      <th>Year</th>\n",
              "      <th>Genre</th>\n",
              "      <th>Publisher</th>\n",
              "      <th>NA_Sales</th>\n",
              "      <th>EU_Sales</th>\n",
              "      <th>JP_Sales</th>\n",
              "      <th>Other_Sales</th>\n",
              "      <th>Global_Sales</th>\n",
              "    </tr>\n",
              "  </thead>\n",
              "  <tbody>\n",
              "    <tr>\n",
              "      <th>16241</th>\n",
              "      <td>16244</td>\n",
              "      <td>Phantasy Star Online 2 Episode 4: Deluxe Package</td>\n",
              "      <td>PSV</td>\n",
              "      <td>2017.0</td>\n",
              "      <td>Role-Playing</td>\n",
              "      <td>Sega</td>\n",
              "      <td>0.00</td>\n",
              "      <td>0.0</td>\n",
              "      <td>0.01</td>\n",
              "      <td>0.0</td>\n",
              "      <td>0.01</td>\n",
              "    </tr>\n",
              "    <tr>\n",
              "      <th>14390</th>\n",
              "      <td>14393</td>\n",
              "      <td>Phantasy Star Online 2 Episode 4: Deluxe Package</td>\n",
              "      <td>PS4</td>\n",
              "      <td>2017.0</td>\n",
              "      <td>Role-Playing</td>\n",
              "      <td>Sega</td>\n",
              "      <td>0.00</td>\n",
              "      <td>0.0</td>\n",
              "      <td>0.03</td>\n",
              "      <td>0.0</td>\n",
              "      <td>0.03</td>\n",
              "    </tr>\n",
              "    <tr>\n",
              "      <th>14776</th>\n",
              "      <td>14779</td>\n",
              "      <td>3DS Classic Collection</td>\n",
              "      <td>3DS</td>\n",
              "      <td>2016.0</td>\n",
              "      <td>Misc</td>\n",
              "      <td>Sega</td>\n",
              "      <td>0.02</td>\n",
              "      <td>0.0</td>\n",
              "      <td>0.00</td>\n",
              "      <td>0.0</td>\n",
              "      <td>0.03</td>\n",
              "    </tr>\n",
              "    <tr>\n",
              "      <th>13885</th>\n",
              "      <td>13887</td>\n",
              "      <td>Hatsune Miku: Project Diva X</td>\n",
              "      <td>PS4</td>\n",
              "      <td>2016.0</td>\n",
              "      <td>Misc</td>\n",
              "      <td>Sega</td>\n",
              "      <td>0.01</td>\n",
              "      <td>0.0</td>\n",
              "      <td>0.02</td>\n",
              "      <td>0.0</td>\n",
              "      <td>0.04</td>\n",
              "    </tr>\n",
              "    <tr>\n",
              "      <th>9898</th>\n",
              "      <td>9900</td>\n",
              "      <td>Hatsune Miku: Project Diva X</td>\n",
              "      <td>PSV</td>\n",
              "      <td>2016.0</td>\n",
              "      <td>Misc</td>\n",
              "      <td>Sega</td>\n",
              "      <td>0.01</td>\n",
              "      <td>0.0</td>\n",
              "      <td>0.10</td>\n",
              "      <td>0.0</td>\n",
              "      <td>0.12</td>\n",
              "    </tr>\n",
              "  </tbody>\n",
              "</table>\n",
              "</div>\n",
              "      <button class=\"colab-df-convert\" onclick=\"convertToInteractive('df-7ffeaa8d-9b79-49d9-93b8-2b9a06ed021b')\"\n",
              "              title=\"Convert this dataframe to an interactive table.\"\n",
              "              style=\"display:none;\">\n",
              "        \n",
              "  <svg xmlns=\"http://www.w3.org/2000/svg\" height=\"24px\"viewBox=\"0 0 24 24\"\n",
              "       width=\"24px\">\n",
              "    <path d=\"M0 0h24v24H0V0z\" fill=\"none\"/>\n",
              "    <path d=\"M18.56 5.44l.94 2.06.94-2.06 2.06-.94-2.06-.94-.94-2.06-.94 2.06-2.06.94zm-11 1L8.5 8.5l.94-2.06 2.06-.94-2.06-.94L8.5 2.5l-.94 2.06-2.06.94zm10 10l.94 2.06.94-2.06 2.06-.94-2.06-.94-.94-2.06-.94 2.06-2.06.94z\"/><path d=\"M17.41 7.96l-1.37-1.37c-.4-.4-.92-.59-1.43-.59-.52 0-1.04.2-1.43.59L10.3 9.45l-7.72 7.72c-.78.78-.78 2.05 0 2.83L4 21.41c.39.39.9.59 1.41.59.51 0 1.02-.2 1.41-.59l7.78-7.78 2.81-2.81c.8-.78.8-2.07 0-2.86zM5.41 20L4 18.59l7.72-7.72 1.47 1.35L5.41 20z\"/>\n",
              "  </svg>\n",
              "      </button>\n",
              "      \n",
              "  <style>\n",
              "    .colab-df-container {\n",
              "      display:flex;\n",
              "      flex-wrap:wrap;\n",
              "      gap: 12px;\n",
              "    }\n",
              "\n",
              "    .colab-df-convert {\n",
              "      background-color: #E8F0FE;\n",
              "      border: none;\n",
              "      border-radius: 50%;\n",
              "      cursor: pointer;\n",
              "      display: none;\n",
              "      fill: #1967D2;\n",
              "      height: 32px;\n",
              "      padding: 0 0 0 0;\n",
              "      width: 32px;\n",
              "    }\n",
              "\n",
              "    .colab-df-convert:hover {\n",
              "      background-color: #E2EBFA;\n",
              "      box-shadow: 0px 1px 2px rgba(60, 64, 67, 0.3), 0px 1px 3px 1px rgba(60, 64, 67, 0.15);\n",
              "      fill: #174EA6;\n",
              "    }\n",
              "\n",
              "    [theme=dark] .colab-df-convert {\n",
              "      background-color: #3B4455;\n",
              "      fill: #D2E3FC;\n",
              "    }\n",
              "\n",
              "    [theme=dark] .colab-df-convert:hover {\n",
              "      background-color: #434B5C;\n",
              "      box-shadow: 0px 1px 3px 1px rgba(0, 0, 0, 0.15);\n",
              "      filter: drop-shadow(0px 1px 2px rgba(0, 0, 0, 0.3));\n",
              "      fill: #FFFFFF;\n",
              "    }\n",
              "  </style>\n",
              "\n",
              "      <script>\n",
              "        const buttonEl =\n",
              "          document.querySelector('#df-7ffeaa8d-9b79-49d9-93b8-2b9a06ed021b button.colab-df-convert');\n",
              "        buttonEl.style.display =\n",
              "          google.colab.kernel.accessAllowed ? 'block' : 'none';\n",
              "\n",
              "        async function convertToInteractive(key) {\n",
              "          const element = document.querySelector('#df-7ffeaa8d-9b79-49d9-93b8-2b9a06ed021b');\n",
              "          const dataTable =\n",
              "            await google.colab.kernel.invokeFunction('convertToInteractive',\n",
              "                                                     [key], {});\n",
              "          if (!dataTable) return;\n",
              "\n",
              "          const docLinkHtml = 'Like what you see? Visit the ' +\n",
              "            '<a target=\"_blank\" href=https://colab.research.google.com/notebooks/data_table.ipynb>data table notebook</a>'\n",
              "            + ' to learn more about interactive tables.';\n",
              "          element.innerHTML = '';\n",
              "          dataTable['output_type'] = 'display_data';\n",
              "          await google.colab.output.renderOutput(dataTable, element);\n",
              "          const docLink = document.createElement('div');\n",
              "          docLink.innerHTML = docLinkHtml;\n",
              "          element.appendChild(docLink);\n",
              "        }\n",
              "      </script>\n",
              "    </div>\n",
              "  </div>\n",
              "  "
            ]
          },
          "metadata": {},
          "execution_count": 87
        }
      ],
      "source": [
        "# Show first 5 games was published by \"Sega\"?\n",
        "\n",
        "df[df.Publisher == 'Sega'].sort_values('Year', ascending=False).head(5)"
      ]
    },
    {
      "cell_type": "markdown",
      "metadata": {
        "id": "El-TueZgocYs"
      },
      "source": [
        "**6. Show the dataframe with games that was Published by \"Ubisoft\" and 'Sports' genre  (★☆☆)**"
      ]
    },
    {
      "cell_type": "code",
      "execution_count": 96,
      "metadata": {
        "id": "qZLHnT8tocYs",
        "colab": {
          "base_uri": "https://localhost:8080/",
          "height": 624
        },
        "outputId": "45c98f94-5a01-49d1-c66a-323bd833b321"
      },
      "outputs": [
        {
          "output_type": "execute_result",
          "data": {
            "text/plain": [
              "        Rank                                 Name Platform    Year   Genre  \\\n",
              "677      679                     My Fitness Coach      Wii  2008.0  Sports   \n",
              "756      758  Your Shape featuring Jenny McCarthy      Wii  2009.0  Sports   \n",
              "1082    1084  Shaun White Snowboarding: Road Trip      Wii  2008.0  Sports   \n",
              "1467    1469          Your Shape: Fitness Evolved     X360  2010.0  Sports   \n",
              "1511    1513           Gold's Gym: Cardio Workout      Wii  2008.0  Sports   \n",
              "...      ...                                  ...      ...     ...     ...   \n",
              "15799  15802                     Davis Cup Tennis      GBA  2002.0  Sports   \n",
              "16292  16295                            Surf's Up       GC  2007.0  Sports   \n",
              "16459  16462                 Rugby World Cup 2015       PC  2015.0  Sports   \n",
              "16461  16464              Razor Freestyle Scooter      GBA  2001.0  Sports   \n",
              "16544  16547     Imagine Figure Skater (JP sales)       DS  2007.0  Sports   \n",
              "\n",
              "      Publisher  NA_Sales  EU_Sales  JP_Sales  Other_Sales  Global_Sales  \n",
              "677     Ubisoft      1.20      0.90      0.00         0.24          2.34  \n",
              "756     Ubisoft      1.51      0.47      0.00         0.18          2.16  \n",
              "1082    Ubisoft      0.94      0.57      0.00         0.17          1.67  \n",
              "1467    Ubisoft      0.79      0.42      0.00         0.11          1.33  \n",
              "1511    Ubisoft      1.11      0.04      0.06         0.09          1.31  \n",
              "...         ...       ...       ...       ...          ...           ...  \n",
              "15799   Ubisoft      0.01      0.00      0.00         0.00          0.02  \n",
              "16292   Ubisoft      0.01      0.00      0.00         0.00          0.01  \n",
              "16459   Ubisoft      0.00      0.01      0.00         0.00          0.01  \n",
              "16461   Ubisoft      0.01      0.00      0.00         0.00          0.01  \n",
              "16544   Ubisoft      0.00      0.00      0.01         0.00          0.01  \n",
              "\n",
              "[72 rows x 11 columns]"
            ],
            "text/html": [
              "\n",
              "  <div id=\"df-79f907db-2ad2-424b-8e47-9edcadc17e55\">\n",
              "    <div class=\"colab-df-container\">\n",
              "      <div>\n",
              "<style scoped>\n",
              "    .dataframe tbody tr th:only-of-type {\n",
              "        vertical-align: middle;\n",
              "    }\n",
              "\n",
              "    .dataframe tbody tr th {\n",
              "        vertical-align: top;\n",
              "    }\n",
              "\n",
              "    .dataframe thead th {\n",
              "        text-align: right;\n",
              "    }\n",
              "</style>\n",
              "<table border=\"1\" class=\"dataframe\">\n",
              "  <thead>\n",
              "    <tr style=\"text-align: right;\">\n",
              "      <th></th>\n",
              "      <th>Rank</th>\n",
              "      <th>Name</th>\n",
              "      <th>Platform</th>\n",
              "      <th>Year</th>\n",
              "      <th>Genre</th>\n",
              "      <th>Publisher</th>\n",
              "      <th>NA_Sales</th>\n",
              "      <th>EU_Sales</th>\n",
              "      <th>JP_Sales</th>\n",
              "      <th>Other_Sales</th>\n",
              "      <th>Global_Sales</th>\n",
              "    </tr>\n",
              "  </thead>\n",
              "  <tbody>\n",
              "    <tr>\n",
              "      <th>677</th>\n",
              "      <td>679</td>\n",
              "      <td>My Fitness Coach</td>\n",
              "      <td>Wii</td>\n",
              "      <td>2008.0</td>\n",
              "      <td>Sports</td>\n",
              "      <td>Ubisoft</td>\n",
              "      <td>1.20</td>\n",
              "      <td>0.90</td>\n",
              "      <td>0.00</td>\n",
              "      <td>0.24</td>\n",
              "      <td>2.34</td>\n",
              "    </tr>\n",
              "    <tr>\n",
              "      <th>756</th>\n",
              "      <td>758</td>\n",
              "      <td>Your Shape featuring Jenny McCarthy</td>\n",
              "      <td>Wii</td>\n",
              "      <td>2009.0</td>\n",
              "      <td>Sports</td>\n",
              "      <td>Ubisoft</td>\n",
              "      <td>1.51</td>\n",
              "      <td>0.47</td>\n",
              "      <td>0.00</td>\n",
              "      <td>0.18</td>\n",
              "      <td>2.16</td>\n",
              "    </tr>\n",
              "    <tr>\n",
              "      <th>1082</th>\n",
              "      <td>1084</td>\n",
              "      <td>Shaun White Snowboarding: Road Trip</td>\n",
              "      <td>Wii</td>\n",
              "      <td>2008.0</td>\n",
              "      <td>Sports</td>\n",
              "      <td>Ubisoft</td>\n",
              "      <td>0.94</td>\n",
              "      <td>0.57</td>\n",
              "      <td>0.00</td>\n",
              "      <td>0.17</td>\n",
              "      <td>1.67</td>\n",
              "    </tr>\n",
              "    <tr>\n",
              "      <th>1467</th>\n",
              "      <td>1469</td>\n",
              "      <td>Your Shape: Fitness Evolved</td>\n",
              "      <td>X360</td>\n",
              "      <td>2010.0</td>\n",
              "      <td>Sports</td>\n",
              "      <td>Ubisoft</td>\n",
              "      <td>0.79</td>\n",
              "      <td>0.42</td>\n",
              "      <td>0.00</td>\n",
              "      <td>0.11</td>\n",
              "      <td>1.33</td>\n",
              "    </tr>\n",
              "    <tr>\n",
              "      <th>1511</th>\n",
              "      <td>1513</td>\n",
              "      <td>Gold's Gym: Cardio Workout</td>\n",
              "      <td>Wii</td>\n",
              "      <td>2008.0</td>\n",
              "      <td>Sports</td>\n",
              "      <td>Ubisoft</td>\n",
              "      <td>1.11</td>\n",
              "      <td>0.04</td>\n",
              "      <td>0.06</td>\n",
              "      <td>0.09</td>\n",
              "      <td>1.31</td>\n",
              "    </tr>\n",
              "    <tr>\n",
              "      <th>...</th>\n",
              "      <td>...</td>\n",
              "      <td>...</td>\n",
              "      <td>...</td>\n",
              "      <td>...</td>\n",
              "      <td>...</td>\n",
              "      <td>...</td>\n",
              "      <td>...</td>\n",
              "      <td>...</td>\n",
              "      <td>...</td>\n",
              "      <td>...</td>\n",
              "      <td>...</td>\n",
              "    </tr>\n",
              "    <tr>\n",
              "      <th>15799</th>\n",
              "      <td>15802</td>\n",
              "      <td>Davis Cup Tennis</td>\n",
              "      <td>GBA</td>\n",
              "      <td>2002.0</td>\n",
              "      <td>Sports</td>\n",
              "      <td>Ubisoft</td>\n",
              "      <td>0.01</td>\n",
              "      <td>0.00</td>\n",
              "      <td>0.00</td>\n",
              "      <td>0.00</td>\n",
              "      <td>0.02</td>\n",
              "    </tr>\n",
              "    <tr>\n",
              "      <th>16292</th>\n",
              "      <td>16295</td>\n",
              "      <td>Surf's Up</td>\n",
              "      <td>GC</td>\n",
              "      <td>2007.0</td>\n",
              "      <td>Sports</td>\n",
              "      <td>Ubisoft</td>\n",
              "      <td>0.01</td>\n",
              "      <td>0.00</td>\n",
              "      <td>0.00</td>\n",
              "      <td>0.00</td>\n",
              "      <td>0.01</td>\n",
              "    </tr>\n",
              "    <tr>\n",
              "      <th>16459</th>\n",
              "      <td>16462</td>\n",
              "      <td>Rugby World Cup 2015</td>\n",
              "      <td>PC</td>\n",
              "      <td>2015.0</td>\n",
              "      <td>Sports</td>\n",
              "      <td>Ubisoft</td>\n",
              "      <td>0.00</td>\n",
              "      <td>0.01</td>\n",
              "      <td>0.00</td>\n",
              "      <td>0.00</td>\n",
              "      <td>0.01</td>\n",
              "    </tr>\n",
              "    <tr>\n",
              "      <th>16461</th>\n",
              "      <td>16464</td>\n",
              "      <td>Razor Freestyle Scooter</td>\n",
              "      <td>GBA</td>\n",
              "      <td>2001.0</td>\n",
              "      <td>Sports</td>\n",
              "      <td>Ubisoft</td>\n",
              "      <td>0.01</td>\n",
              "      <td>0.00</td>\n",
              "      <td>0.00</td>\n",
              "      <td>0.00</td>\n",
              "      <td>0.01</td>\n",
              "    </tr>\n",
              "    <tr>\n",
              "      <th>16544</th>\n",
              "      <td>16547</td>\n",
              "      <td>Imagine Figure Skater (JP sales)</td>\n",
              "      <td>DS</td>\n",
              "      <td>2007.0</td>\n",
              "      <td>Sports</td>\n",
              "      <td>Ubisoft</td>\n",
              "      <td>0.00</td>\n",
              "      <td>0.00</td>\n",
              "      <td>0.01</td>\n",
              "      <td>0.00</td>\n",
              "      <td>0.01</td>\n",
              "    </tr>\n",
              "  </tbody>\n",
              "</table>\n",
              "<p>72 rows × 11 columns</p>\n",
              "</div>\n",
              "      <button class=\"colab-df-convert\" onclick=\"convertToInteractive('df-79f907db-2ad2-424b-8e47-9edcadc17e55')\"\n",
              "              title=\"Convert this dataframe to an interactive table.\"\n",
              "              style=\"display:none;\">\n",
              "        \n",
              "  <svg xmlns=\"http://www.w3.org/2000/svg\" height=\"24px\"viewBox=\"0 0 24 24\"\n",
              "       width=\"24px\">\n",
              "    <path d=\"M0 0h24v24H0V0z\" fill=\"none\"/>\n",
              "    <path d=\"M18.56 5.44l.94 2.06.94-2.06 2.06-.94-2.06-.94-.94-2.06-.94 2.06-2.06.94zm-11 1L8.5 8.5l.94-2.06 2.06-.94-2.06-.94L8.5 2.5l-.94 2.06-2.06.94zm10 10l.94 2.06.94-2.06 2.06-.94-2.06-.94-.94-2.06-.94 2.06-2.06.94z\"/><path d=\"M17.41 7.96l-1.37-1.37c-.4-.4-.92-.59-1.43-.59-.52 0-1.04.2-1.43.59L10.3 9.45l-7.72 7.72c-.78.78-.78 2.05 0 2.83L4 21.41c.39.39.9.59 1.41.59.51 0 1.02-.2 1.41-.59l7.78-7.78 2.81-2.81c.8-.78.8-2.07 0-2.86zM5.41 20L4 18.59l7.72-7.72 1.47 1.35L5.41 20z\"/>\n",
              "  </svg>\n",
              "      </button>\n",
              "      \n",
              "  <style>\n",
              "    .colab-df-container {\n",
              "      display:flex;\n",
              "      flex-wrap:wrap;\n",
              "      gap: 12px;\n",
              "    }\n",
              "\n",
              "    .colab-df-convert {\n",
              "      background-color: #E8F0FE;\n",
              "      border: none;\n",
              "      border-radius: 50%;\n",
              "      cursor: pointer;\n",
              "      display: none;\n",
              "      fill: #1967D2;\n",
              "      height: 32px;\n",
              "      padding: 0 0 0 0;\n",
              "      width: 32px;\n",
              "    }\n",
              "\n",
              "    .colab-df-convert:hover {\n",
              "      background-color: #E2EBFA;\n",
              "      box-shadow: 0px 1px 2px rgba(60, 64, 67, 0.3), 0px 1px 3px 1px rgba(60, 64, 67, 0.15);\n",
              "      fill: #174EA6;\n",
              "    }\n",
              "\n",
              "    [theme=dark] .colab-df-convert {\n",
              "      background-color: #3B4455;\n",
              "      fill: #D2E3FC;\n",
              "    }\n",
              "\n",
              "    [theme=dark] .colab-df-convert:hover {\n",
              "      background-color: #434B5C;\n",
              "      box-shadow: 0px 1px 3px 1px rgba(0, 0, 0, 0.15);\n",
              "      filter: drop-shadow(0px 1px 2px rgba(0, 0, 0, 0.3));\n",
              "      fill: #FFFFFF;\n",
              "    }\n",
              "  </style>\n",
              "\n",
              "      <script>\n",
              "        const buttonEl =\n",
              "          document.querySelector('#df-79f907db-2ad2-424b-8e47-9edcadc17e55 button.colab-df-convert');\n",
              "        buttonEl.style.display =\n",
              "          google.colab.kernel.accessAllowed ? 'block' : 'none';\n",
              "\n",
              "        async function convertToInteractive(key) {\n",
              "          const element = document.querySelector('#df-79f907db-2ad2-424b-8e47-9edcadc17e55');\n",
              "          const dataTable =\n",
              "            await google.colab.kernel.invokeFunction('convertToInteractive',\n",
              "                                                     [key], {});\n",
              "          if (!dataTable) return;\n",
              "\n",
              "          const docLinkHtml = 'Like what you see? Visit the ' +\n",
              "            '<a target=\"_blank\" href=https://colab.research.google.com/notebooks/data_table.ipynb>data table notebook</a>'\n",
              "            + ' to learn more about interactive tables.';\n",
              "          element.innerHTML = '';\n",
              "          dataTable['output_type'] = 'display_data';\n",
              "          await google.colab.output.renderOutput(dataTable, element);\n",
              "          const docLink = document.createElement('div');\n",
              "          docLink.innerHTML = docLinkHtml;\n",
              "          element.appendChild(docLink);\n",
              "        }\n",
              "      </script>\n",
              "    </div>\n",
              "  </div>\n",
              "  "
            ]
          },
          "metadata": {},
          "execution_count": 96
        }
      ],
      "source": [
        "# Show the dataframe with games that was Published by \"Ubisoft\" and 'Sports' genre\n",
        "\n",
        "df.query(\"Publisher == 'Ubisoft' & Genre == 'Sports'\")"
      ]
    },
    {
      "cell_type": "markdown",
      "metadata": {
        "id": "XeJClmhfocYt"
      },
      "source": [
        "**7. What is the name of game which has the maximum sales in EU? Show (★☆☆)**"
      ]
    },
    {
      "cell_type": "code",
      "execution_count": 103,
      "metadata": {
        "id": "eaF5fdydocYt",
        "colab": {
          "base_uri": "https://localhost:8080/",
          "height": 81
        },
        "outputId": "37afd153-9799-4cf9-d100-9fd96e2f05d4"
      },
      "outputs": [
        {
          "output_type": "execute_result",
          "data": {
            "text/plain": [
              "   Rank        Name Platform    Year   Genre Publisher  NA_Sales  EU_Sales  \\\n",
              "0     1  Wii Sports      Wii  2006.0  Sports  Nintendo     41.49     29.02   \n",
              "\n",
              "   JP_Sales  Other_Sales  Global_Sales  \n",
              "0      3.77         8.46         82.74  "
            ],
            "text/html": [
              "\n",
              "  <div id=\"df-03dd6416-72e6-4e67-8098-2782c40f52d2\">\n",
              "    <div class=\"colab-df-container\">\n",
              "      <div>\n",
              "<style scoped>\n",
              "    .dataframe tbody tr th:only-of-type {\n",
              "        vertical-align: middle;\n",
              "    }\n",
              "\n",
              "    .dataframe tbody tr th {\n",
              "        vertical-align: top;\n",
              "    }\n",
              "\n",
              "    .dataframe thead th {\n",
              "        text-align: right;\n",
              "    }\n",
              "</style>\n",
              "<table border=\"1\" class=\"dataframe\">\n",
              "  <thead>\n",
              "    <tr style=\"text-align: right;\">\n",
              "      <th></th>\n",
              "      <th>Rank</th>\n",
              "      <th>Name</th>\n",
              "      <th>Platform</th>\n",
              "      <th>Year</th>\n",
              "      <th>Genre</th>\n",
              "      <th>Publisher</th>\n",
              "      <th>NA_Sales</th>\n",
              "      <th>EU_Sales</th>\n",
              "      <th>JP_Sales</th>\n",
              "      <th>Other_Sales</th>\n",
              "      <th>Global_Sales</th>\n",
              "    </tr>\n",
              "  </thead>\n",
              "  <tbody>\n",
              "    <tr>\n",
              "      <th>0</th>\n",
              "      <td>1</td>\n",
              "      <td>Wii Sports</td>\n",
              "      <td>Wii</td>\n",
              "      <td>2006.0</td>\n",
              "      <td>Sports</td>\n",
              "      <td>Nintendo</td>\n",
              "      <td>41.49</td>\n",
              "      <td>29.02</td>\n",
              "      <td>3.77</td>\n",
              "      <td>8.46</td>\n",
              "      <td>82.74</td>\n",
              "    </tr>\n",
              "  </tbody>\n",
              "</table>\n",
              "</div>\n",
              "      <button class=\"colab-df-convert\" onclick=\"convertToInteractive('df-03dd6416-72e6-4e67-8098-2782c40f52d2')\"\n",
              "              title=\"Convert this dataframe to an interactive table.\"\n",
              "              style=\"display:none;\">\n",
              "        \n",
              "  <svg xmlns=\"http://www.w3.org/2000/svg\" height=\"24px\"viewBox=\"0 0 24 24\"\n",
              "       width=\"24px\">\n",
              "    <path d=\"M0 0h24v24H0V0z\" fill=\"none\"/>\n",
              "    <path d=\"M18.56 5.44l.94 2.06.94-2.06 2.06-.94-2.06-.94-.94-2.06-.94 2.06-2.06.94zm-11 1L8.5 8.5l.94-2.06 2.06-.94-2.06-.94L8.5 2.5l-.94 2.06-2.06.94zm10 10l.94 2.06.94-2.06 2.06-.94-2.06-.94-.94-2.06-.94 2.06-2.06.94z\"/><path d=\"M17.41 7.96l-1.37-1.37c-.4-.4-.92-.59-1.43-.59-.52 0-1.04.2-1.43.59L10.3 9.45l-7.72 7.72c-.78.78-.78 2.05 0 2.83L4 21.41c.39.39.9.59 1.41.59.51 0 1.02-.2 1.41-.59l7.78-7.78 2.81-2.81c.8-.78.8-2.07 0-2.86zM5.41 20L4 18.59l7.72-7.72 1.47 1.35L5.41 20z\"/>\n",
              "  </svg>\n",
              "      </button>\n",
              "      \n",
              "  <style>\n",
              "    .colab-df-container {\n",
              "      display:flex;\n",
              "      flex-wrap:wrap;\n",
              "      gap: 12px;\n",
              "    }\n",
              "\n",
              "    .colab-df-convert {\n",
              "      background-color: #E8F0FE;\n",
              "      border: none;\n",
              "      border-radius: 50%;\n",
              "      cursor: pointer;\n",
              "      display: none;\n",
              "      fill: #1967D2;\n",
              "      height: 32px;\n",
              "      padding: 0 0 0 0;\n",
              "      width: 32px;\n",
              "    }\n",
              "\n",
              "    .colab-df-convert:hover {\n",
              "      background-color: #E2EBFA;\n",
              "      box-shadow: 0px 1px 2px rgba(60, 64, 67, 0.3), 0px 1px 3px 1px rgba(60, 64, 67, 0.15);\n",
              "      fill: #174EA6;\n",
              "    }\n",
              "\n",
              "    [theme=dark] .colab-df-convert {\n",
              "      background-color: #3B4455;\n",
              "      fill: #D2E3FC;\n",
              "    }\n",
              "\n",
              "    [theme=dark] .colab-df-convert:hover {\n",
              "      background-color: #434B5C;\n",
              "      box-shadow: 0px 1px 3px 1px rgba(0, 0, 0, 0.15);\n",
              "      filter: drop-shadow(0px 1px 2px rgba(0, 0, 0, 0.3));\n",
              "      fill: #FFFFFF;\n",
              "    }\n",
              "  </style>\n",
              "\n",
              "      <script>\n",
              "        const buttonEl =\n",
              "          document.querySelector('#df-03dd6416-72e6-4e67-8098-2782c40f52d2 button.colab-df-convert');\n",
              "        buttonEl.style.display =\n",
              "          google.colab.kernel.accessAllowed ? 'block' : 'none';\n",
              "\n",
              "        async function convertToInteractive(key) {\n",
              "          const element = document.querySelector('#df-03dd6416-72e6-4e67-8098-2782c40f52d2');\n",
              "          const dataTable =\n",
              "            await google.colab.kernel.invokeFunction('convertToInteractive',\n",
              "                                                     [key], {});\n",
              "          if (!dataTable) return;\n",
              "\n",
              "          const docLinkHtml = 'Like what you see? Visit the ' +\n",
              "            '<a target=\"_blank\" href=https://colab.research.google.com/notebooks/data_table.ipynb>data table notebook</a>'\n",
              "            + ' to learn more about interactive tables.';\n",
              "          element.innerHTML = '';\n",
              "          dataTable['output_type'] = 'display_data';\n",
              "          await google.colab.output.renderOutput(dataTable, element);\n",
              "          const docLink = document.createElement('div');\n",
              "          docLink.innerHTML = docLinkHtml;\n",
              "          element.appendChild(docLink);\n",
              "        }\n",
              "      </script>\n",
              "    </div>\n",
              "  </div>\n",
              "  "
            ]
          },
          "metadata": {},
          "execution_count": 103
        }
      ],
      "source": [
        "# What is the name of game which has the maximum sales in EU? Show\n",
        "\n",
        "df[df.EU_Sales == df.EU_Sales.max()]"
      ]
    },
    {
      "cell_type": "markdown",
      "metadata": {
        "id": "NeY1bk6wocYt"
      },
      "source": [
        "**8. Calculate the difference between the maximum and minimum of global sales? (★★☆)**"
      ]
    },
    {
      "cell_type": "code",
      "execution_count": 104,
      "metadata": {
        "id": "qTjyGziAocYt",
        "colab": {
          "base_uri": "https://localhost:8080/"
        },
        "outputId": "e5426908-4244-4a79-db5e-e484cae5dd70"
      },
      "outputs": [
        {
          "output_type": "execute_result",
          "data": {
            "text/plain": [
              "82.72999999999999"
            ]
          },
          "metadata": {},
          "execution_count": 104
        }
      ],
      "source": [
        "# Calculate the difference between the maximum and minimum of global sales?\n",
        "\n",
        "df.Global_Sales.max() - df.Global_Sales.min()"
      ]
    },
    {
      "cell_type": "markdown",
      "metadata": {
        "id": "fLIbZRTEocYt"
      },
      "source": [
        "**9. Show the histogram of Critic Score  (★★☆)**"
      ]
    },
    {
      "cell_type": "code",
      "execution_count": 106,
      "metadata": {
        "id": "SqT8qIvFocYu",
        "colab": {
          "base_uri": "https://localhost:8080/",
          "height": 447
        },
        "outputId": "9db2530e-db8b-4db9-ddd1-a7ad4f653d31"
      },
      "outputs": [
        {
          "output_type": "execute_result",
          "data": {
            "text/plain": [
              "<Axes: >"
            ]
          },
          "metadata": {},
          "execution_count": 106
        },
        {
          "output_type": "display_data",
          "data": {
            "text/plain": [
              "<Figure size 640x480 with 1 Axes>"
            ],
            "image/png": "[encoded data removed]"
          },
          "metadata": {}
        }
      ],
      "source": [
        "# Show the histogram of Critic Score\n",
        "\n",
        "df.Year.hist()"
      ]
    },
    {
      "cell_type": "markdown",
      "metadata": {
        "id": "n05tmsn9ocYu"
      },
      "source": [
        "**10. Show the histogram of Critic Score of games released in 2010 (★★☆)**"
      ]
    },
    {
      "cell_type": "code",
      "execution_count": 107,
      "metadata": {
        "id": "dVfD-pOzocYv",
        "colab": {
          "base_uri": "https://localhost:8080/",
          "height": 447
        },
        "outputId": "75009c1a-ef08-493a-81c6-8e3430937c90"
      },
      "outputs": [
        {
          "output_type": "execute_result",
          "data": {
            "text/plain": [
              "<Axes: >"
            ]
          },
          "metadata": {},
          "execution_count": 107
        },
        {
          "output_type": "display_data",
          "data": {
            "text/plain": [
              "<Figure size 640x480 with 1 Axes>"
            ],
            "image/png": "[encoded data removed]"
          },
          "metadata": {}
        }
      ],
      "source": [
        "# Show the histogram of Critic Score of games released in 2010\n",
        "\n",
        "df[df.Genre == 'Sports'].Year.hist()"
      ]
    },
    {
      "cell_type": "code",
      "source": [
        "!rm -rf .git"
      ],
      "metadata": {
        "id": "Yn5pxov_BSuB"
      },
      "execution_count": 150,
      "outputs": []
    },
    {
      "cell_type": "code",
      "source": [
        "!git init ."
      ],
      "metadata": {
        "colab": {
          "base_uri": "https://localhost:8080/"
        },
        "id": "REJdJT2q6HKK",
        "outputId": "96466b17-cd6e-4deb-cad1-8c37cc5dff48"
      },
      "execution_count": 151,
      "outputs": [
        {
          "output_type": "stream",
          "name": "stdout",
          "text": [
            "Initialized empty Git repository in /content/.git/\n"
          ]
        }
      ]
    },
    {
      "cell_type": "code",
      "source": [
        "!git remote add origin git@github.com:azamatdaniel0/task3.git"
      ],
      "metadata": {
        "id": "B-3jmebZ6Hud"
      },
      "execution_count": 152,
      "outputs": []
    },
    {
      "cell_type": "code",
      "source": [
        "!git remote set-url origin git@github.com:azamatdaniel0/task3.git"
      ],
      "metadata": {
        "id": "Ou3rGx8R8iE6"
      },
      "execution_count": 153,
      "outputs": []
    },
    {
      "cell_type": "code",
      "source": [
        "!git add ."
      ],
      "metadata": {
        "id": "1XEsx3N-7QOk"
      },
      "execution_count": 154,
      "outputs": []
    },
    {
      "cell_type": "code",
      "source": [
        "!git commit -m \"Initial commit\""
      ],
      "metadata": {
        "colab": {
          "base_uri": "https://localhost:8080/"
        },
        "id": "L69vrWgF7Sde",
        "outputId": "6f7b8f84-928d-41da-fba3-f8e93334ddd6"
      },
      "execution_count": 155,
      "outputs": [
        {
          "output_type": "stream",
          "name": "stdout",
          "text": [
            "[master (root-commit) 85d52cf] Initial commit\n",
            " 19 files changed, 50872 insertions(+)\n",
            " create mode 100644 .config/.last_opt_in_prompt.yaml\n",
            " create mode 100644 .config/.last_survey_prompt.yaml\n",
            " create mode 100644 .config/.last_update_check.json\n",
            " create mode 100644 .config/active_config\n",
            " create mode 100644 .config/config_sentinel\n",
            " create mode 100644 .config/configurations/config_default\n",
            " create mode 100644 .config/gce\n",
            " create mode 100644 .config/logs/2023.03.28/13.51.10.613050.log\n",
            " create mode 100644 .config/logs/2023.03.28/13.51.37.357457.log\n",
            " create mode 100644 .config/logs/2023.03.28/13.52.02.334480.log\n",
            " create mode 100644 .config/logs/2023.03.28/13.52.10.669826.log\n",
            " create mode 100644 .config/logs/2023.03.28/13.52.36.384702.log\n",
            " create mode 100644 .config/logs/2023.03.28/13.52.37.194380.log\n",
            " create mode 100755 sample_data/README.md\n",
            " create mode 100755 sample_data/anscombe.json\n",
            " create mode 100644 sample_data/california_housing_test.csv\n",
            " create mode 100644 sample_data/california_housing_train.csv\n",
            " create mode 100644 sample_data/mnist_test.csv\n",
            " create mode 100644 sample_data/mnist_train_small.csv\n"
          ]
        }
      ]
    },
    {
      "cell_type": "code",
      "source": [
        "!git config --global user.email \"nnursultan07@mail.ru\"\n",
        "!git config --global user.name \"Nursultan\""
      ],
      "metadata": {
        "id": "r_8V3e217Xu2"
      },
      "execution_count": 156,
      "outputs": []
    },
    {
      "cell_type": "code",
      "source": [
        "!git log"
      ],
      "metadata": {
        "colab": {
          "base_uri": "https://localhost:8080/"
        },
        "id": "XvC7K-x17oZv",
        "outputId": "6ad0f243-4f37-4991-bad8-bee99cf72ceb"
      },
      "execution_count": 157,
      "outputs": [
        {
          "output_type": "stream",
          "name": "stdout",
          "text": [
            "\u001b[33mcommit 85d52cfea09f40c6fd776217f4f8cdf3cef38184\u001b[m\u001b[33m (\u001b[m\u001b[1;36mHEAD -> \u001b[m\u001b[1;32mmaster\u001b[m\u001b[33m)\u001b[m\n",
            "Author: Nursultan <nnursultan07@mail.ru>\n",
            "Date:   Thu Mar 30 10:21:16 2023 +0000\n",
            "\n",
            "    Initial commit\n"
          ]
        }
      ]
    },
    {
      "cell_type": "code",
      "source": [
        "!git branch Nurse"
      ],
      "metadata": {
        "id": "s19pRSiP7zO-"
      },
      "execution_count": 158,
      "outputs": []
    },
    {
      "cell_type": "code",
      "source": [
        "!git log"
      ],
      "metadata": {
        "colab": {
          "base_uri": "https://localhost:8080/"
        },
        "id": "rpJTJ1np74L-",
        "outputId": "76452d73-8af7-4986-ba14-fd3a15814969"
      },
      "execution_count": 159,
      "outputs": [
        {
          "output_type": "stream",
          "name": "stdout",
          "text": [
            "\u001b[33mcommit 85d52cfea09f40c6fd776217f4f8cdf3cef38184\u001b[m\u001b[33m (\u001b[m\u001b[1;36mHEAD -> \u001b[m\u001b[1;32mmaster\u001b[m\u001b[33m, \u001b[m\u001b[1;32mNurse\u001b[m\u001b[33m)\u001b[m\n",
            "Author: Nursultan <nnursultan07@mail.ru>\n",
            "Date:   Thu Mar 30 10:21:16 2023 +0000\n",
            "\n",
            "    Initial commit\n"
          ]
        }
      ]
    },
    {
      "cell_type": "code",
      "source": [
        "!git checkout Nurse"
      ],
      "metadata": {
        "colab": {
          "base_uri": "https://localhost:8080/"
        },
        "id": "DQCXdVjy75sw",
        "outputId": "f44401d2-cbf1-40ee-9fd1-60e9050b9b10"
      },
      "execution_count": 160,
      "outputs": [
        {
          "output_type": "stream",
          "name": "stdout",
          "text": [
            "Switched to branch 'Nurse'\n"
          ]
        }
      ]
    },
    {
      "cell_type": "code",
      "source": [
        "!git push -u origin Nurse"
      ],
      "metadata": {
        "colab": {
          "base_uri": "https://localhost:8080/"
        },
        "id": "oxQpkdJo790e",
        "outputId": "a2480a91-025d-4023-f7e0-a1f974729965"
      },
      "execution_count": 161,
      "outputs": [
        {
          "output_type": "stream",
          "name": "stdout",
          "text": [
            "Host key verification failed.\r\n",
            "fatal: Could not read from remote repository.\n",
            "\n",
            "Please make sure you have the correct access rights\n",
            "and the repository exists.\n"
          ]
        }
      ]
    },
    {
      "cell_type": "code",
      "source": [],
      "metadata": {
        "id": "Dh6ByWuc8MRp"
      },
      "execution_count": null,
      "outputs": []
    }
  ],
  "metadata": {
    "kernelspec": {
      "display_name": "Python 3",
      "language": "python",
      "name": "python3"
    },
    "language_info": {
      "codemirror_mode": {
        "name": "ipython",
        "version": 3
      },
      "file_extension": ".py",
      "mimetype": "text/x-python",
      "name": "python",
      "nbconvert_exporter": "python",
      "pygments_lexer": "ipython3",
      "version": "3.8.5"
    },
    "colab": {
      "provenance": []
    }
  },
  "nbformat": 4,
  "nbformat_minor": 0
}
