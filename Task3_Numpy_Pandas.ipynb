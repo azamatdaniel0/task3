{
 "cells": [
  {
   "cell_type": "markdown",
   "metadata": {
    "id": "6IjLMZXRocXp"
   },
   "source": [
    "# Lab 1 and 2 (NumPy, Pandas - 10 points)"
   ]
  },
  {
   "cell_type": "code",
   "execution_count": 58,
   "metadata": {
    "id": "X3khonh8ocX2"
   },
   "outputs": [],
   "source": [
    "#import here all needed libraries\n",
    "import numpy as np\n",
    "import pandas as pd\n",
    "from matplotlib import pyplot as pyplot\n",
    "#import seaborn as sbn"
   ]
  },
  {
   "cell_type": "markdown",
   "metadata": {
    "id": "8_EIT0XmocYF"
   },
   "source": [
    "-----\n",
    "\n",
    "## NumPy"
   ]
  },
  {
   "cell_type": "markdown",
   "metadata": {
    "id": "N2eV09XXocYH"
   },
   "source": [
    "#### 1. Create a null vector of size 10 (★☆☆)"
   ]
  },
  {
   "cell_type": "code",
   "execution_count": 10,
   "metadata": {
    "colab": {
     "base_uri": "https://localhost:8080/"
    },
    "id": "FFfirDcgocYI",
    "outputId": "66e93e73-db56-4fdf-a49f-09c4d63423a2"
   },
   "outputs": [
    {
     "data": {
      "text/plain": [
       "array([0., 0., 0., 0., 0., 0., 0., 0., 0., 0.])"
      ]
     },
     "execution_count": 10,
     "metadata": {},
     "output_type": "execute_result"
    }
   ],
   "source": [
    "# your solution\n",
    "np.zeros(10)"
   ]
  },
  {
   "cell_type": "markdown",
   "metadata": {
    "id": "YhM3oK3UocYM"
   },
   "source": [
    "#### 2. Create a vector with values ranging from 10 to 49 (★☆☆)"
   ]
  },
  {
   "cell_type": "code",
   "execution_count": 6,
   "metadata": {
    "colab": {
     "base_uri": "https://localhost:8080/"
    },
    "id": "9MNOfDlHocYN",
    "outputId": "34948914-dad8-465b-9607-44cfa9d988c7"
   },
   "outputs": [
    {
     "data": {
      "text/plain": [
       "array([10, 11, 12, 13, 14, 15, 16, 17, 18, 19, 20, 21, 22, 23, 24, 25, 26,\n",
       "       27, 28, 29, 30, 31, 32, 33, 34, 35, 36, 37, 38, 39, 40, 41, 42, 43,\n",
       "       44, 45, 46, 47, 48, 49])"
      ]
     },
     "execution_count": 6,
     "metadata": {},
     "output_type": "execute_result"
    }
   ],
   "source": [
    "# your solution\n",
    "np.arange(10,50)"
   ]
  },
  {
   "cell_type": "markdown",
   "metadata": {
    "id": "HE-mEgYFocYO"
   },
   "source": [
    "#### 3. Create a 3x3 matrix with values ranging from 0 to 8 (★☆☆)"
   ]
  },
  {
   "cell_type": "code",
   "execution_count": 14,
   "metadata": {
    "colab": {
     "base_uri": "https://localhost:8080/"
    },
    "id": "erLx5eCBocYP",
    "outputId": "a48a2cfe-f865-4ea7-d70e-414025866f3a"
   },
   "outputs": [
    {
     "data": {
      "text/plain": [
       "array([[0, 1, 2],\n",
       "       [3, 4, 5],\n",
       "       [6, 7, 8]])"
      ]
     },
     "execution_count": 14,
     "metadata": {},
     "output_type": "execute_result"
    }
   ],
   "source": [
    "# your solution\n",
    "\n",
    "np.array(range(9)).reshape((3,3))\n"
   ]
  },
  {
   "cell_type": "markdown",
   "metadata": {
    "id": "DF36pxj-ocYR"
   },
   "source": [
    "#### 4. Create a 10x10 array with random values and find the minimum and maximum values (★☆☆)\n",
    "`hint: np.random.random()`"
   ]
  },
  {
   "cell_type": "code",
   "execution_count": 36,
   "metadata": {
    "colab": {
     "base_uri": "https://localhost:8080/"
    },
    "id": "rsoUgBd7ocYV",
    "outputId": "622fc7c1-40b8-4efc-e2fc-87dbe1fce6b8"
   },
   "outputs": [
    {
     "name": "stdout",
     "output_type": "stream",
     "text": [
      "[[11 41  0 15 59 10 55 18 41 54]\n",
      " [18 23  8 22  9  1 24 39 27 49]\n",
      " [18 11 54 53 19 39  9  3 15 29]\n",
      " [10 34 31  6 33 13 54 53 48 33]\n",
      " [21 18 34 19 11 48 34 37 51 53]\n",
      " [52 40 27  3  4 57 35 27 28 21]\n",
      " [44 36 17 43 13  4  1 13  7 30]\n",
      " [17 52 40 46 49 33 59 35 49 28]\n",
      " [54 28 42 18 39 50 20 29 10 22]\n",
      " [41 48 37 43 26 13 38 30 41 29]]\n",
      "min = 0\n",
      "max = 59\n"
     ]
    }
   ],
   "source": [
    "# your solution\n",
    "\n",
    "a = np.random.randint(60, size=(10,10))\n",
    "\n",
    "print(a)\n",
    "\n",
    "print('min =', np.amin(a))\n",
    "print('max =', np.amax(a))"
   ]
  },
  {
   "cell_type": "markdown",
   "metadata": {
    "id": "6XdoSVafocYW"
   },
   "source": [
    "#### 5. Create the given matrix: (★☆☆)\n",
    "```\n",
    "[[0 0 0 0 0]\n",
    " [1 0 0 0 0]\n",
    " [0 2 0 0 0]\n",
    " [0 0 3 0 0]\n",
    " [0 0 0 4 0]]\n",
    " ```"
   ]
  },
  {
   "cell_type": "code",
   "execution_count": null,
   "metadata": {
    "colab": {
     "base_uri": "https://localhost:8080/"
    },
    "id": "m48FDpuxocYX",
    "outputId": "fcd0bb82-bbaf-4d4a-f78c-46147d1c36c0"
   },
   "outputs": [
    {
     "name": "stdout",
     "output_type": "stream",
     "text": [
      "[[0 0 0 0 0]\n",
      " [1 0 0 0 0]\n",
      " [0 2 0 0 0]\n",
      " [0 0 3 0 0]\n",
      " [0 0 0 4 0]]\n"
     ]
    }
   ],
   "source": [
    "# your solution\n",
    "diag = np.arange(1,5)\n",
    "\n",
    "np.diag(diag, k=-1)"
   ]
  },
  {
   "cell_type": "markdown",
   "metadata": {
    "id": "Xl95i1V_ocYY"
   },
   "source": [
    "#### Run the code below to get the matrix for the tasks from 6 to 10:"
   ]
  },
  {
   "cell_type": "code",
   "execution_count": 18,
   "metadata": {
    "colab": {
     "base_uri": "https://localhost:8080/"
    },
    "id": "khMjUhggocYZ",
    "outputId": "b10bd83f-0d43-49a5-f009-857f536e588e"
   },
   "outputs": [
    {
     "name": "stdout",
     "output_type": "stream",
     "text": [
      "[[38 51 28 14 42  7 20 38 57 18]\n",
      " [22 10 10 23 52 35 39 23  2 21]\n",
      " [52  1 23 43 29 37  1 59 20 32]\n",
      " [11 57 21 43 24 48 26 58 41 27]\n",
      " [59 15 14 46 50 43 54 51 56  2]\n",
      " [36 50  6 20  8 38 17  3 24 59]\n",
      " [13 49 57  8 25 52  1 19 27 46]\n",
      " [59  6 43  7 46 34 13 16 35 49]\n",
      " [39  3  1  5 53 41  3 53 28 17]\n",
      " [25 43 33  9 35 13 30 47 14  7]]\n"
     ]
    }
   ],
   "source": [
    "np.random.seed(42)\n",
    "\n",
    "a = np.random.randint(60, size=(10,10))\n",
    "print(a)\n"
   ]
  },
  {
   "cell_type": "markdown",
   "metadata": {
    "id": "HnhCrUkqocYa"
   },
   "source": [
    "#### 6. Print the first and the last row with one slice operation  (★☆☆)"
   ]
  },
  {
   "cell_type": "code",
   "execution_count": 17,
   "metadata": {
    "colab": {
     "base_uri": "https://localhost:8080/"
    },
    "id": "Bl_NC1akocYb",
    "outputId": "6c9a7e31-bc65-4c4e-ebed-0789fa89ff14"
   },
   "outputs": [
    {
     "name": "stdout",
     "output_type": "stream",
     "text": [
      "[38 51 28 14 42  7 20 38 57 18]\n",
      "[25 43 33  9 35 13 30 47 14  7]\n"
     ]
    }
   ],
   "source": [
    "# your solution\n",
    "\n",
    "np.random.seed(42)\n",
    "\n",
    "a = np.random.randint(60, size=(10,10))\n",
    "\n",
    "print(a[0])\n",
    "print(a[-1])"
   ]
  },
  {
   "cell_type": "markdown",
   "metadata": {
    "id": "KlfXWoQQocYc"
   },
   "source": [
    "#### 7. Print all elements less than 10  (★☆☆)"
   ]
  },
  {
   "cell_type": "code",
   "execution_count": 38,
   "metadata": {
    "colab": {
     "base_uri": "https://localhost:8080/"
    },
    "id": "Dsu_xkMAocYc",
    "outputId": "cc01a178-c904-4418-9452-20dc03a34d10"
   },
   "outputs": [
    {
     "name": "stdout",
     "output_type": "stream",
     "text": [
      "[[38 51 28 14 42  7 20 38 57 18]\n",
      " [22 10 10 23 52 35 39 23  2 21]\n",
      " [52  1 23 43 29 37  1 59 20 32]\n",
      " [11 57 21 43 24 48 26 58 41 27]\n",
      " [59 15 14 46 50 43 54 51 56  2]\n",
      " [36 50  6 20  8 38 17  3 24 59]\n",
      " [13 49 57  8 25 52  1 19 27 46]\n",
      " [59  6 43  7 46 34 13 16 35 49]\n",
      " [39  3  1  5 53 41  3 53 28 17]\n",
      " [25 43 33  9 35 13 30 47 14  7]]\n"
     ]
    }
   ],
   "source": [
    "# your solution\n",
    "np.random.seed(42)\n",
    "\n",
    "a = np.random.randint(60, size=(10,10))\n",
    "\n",
    "print(a)"
   ]
  },
  {
   "cell_type": "markdown",
   "metadata": {
    "id": "1Ia4ozM4ocYd"
   },
   "source": [
    "#### 8. Print each even row  (★☆☆)"
   ]
  },
  {
   "cell_type": "code",
   "execution_count": 39,
   "metadata": {
    "colab": {
     "base_uri": "https://localhost:8080/"
    },
    "id": "kp0Fqd43ocYe",
    "outputId": "b792e823-fffd-4ce0-fa8c-193e28c483fa"
   },
   "outputs": [
    {
     "name": "stdout",
     "output_type": "stream",
     "text": [
      "[[22 10 10 23 52 35 39 23  2 21]\n",
      " [11 57 21 43 24 48 26 58 41 27]\n",
      " [36 50  6 20  8 38 17  3 24 59]\n",
      " [59  6 43  7 46 34 13 16 35 49]\n",
      " [25 43 33  9 35 13 30 47 14  7]]\n"
     ]
    }
   ],
   "source": [
    "# your solution\n",
    "np.random.seed(42)\n",
    "\n",
    "a = np.random.randint(60, size=(10,10))\n",
    "\n",
    "print(a[1::2])"
   ]
  },
  {
   "cell_type": "markdown",
   "metadata": {
    "id": "OcPwC14socYe"
   },
   "source": [
    "#### 9. Print each odd column  (★☆☆)"
   ]
  },
  {
   "cell_type": "code",
   "execution_count": 40,
   "metadata": {
    "colab": {
     "base_uri": "https://localhost:8080/"
    },
    "id": "6GpABbPsocYf",
    "outputId": "714f5f70-755d-401a-8fc5-e4e17bc97d70"
   },
   "outputs": [
    {
     "name": "stdout",
     "output_type": "stream",
     "text": [
      "[[38 28 42 20 57]\n",
      " [22 10 52 39  2]\n",
      " [52 23 29  1 20]\n",
      " [11 21 24 26 41]\n",
      " [59 14 50 54 56]\n",
      " [36  6  8 17 24]\n",
      " [13 57 25  1 27]\n",
      " [59 43 46 13 35]\n",
      " [39  1 53  3 28]\n",
      " [25 33 35 30 14]]\n"
     ]
    }
   ],
   "source": [
    "# your solution\n",
    "np.random.seed(42)\n",
    "\n",
    "a = np.random.randint(60, size=(10,10))\n",
    "\n",
    "b = a.transpose()[::2]\n",
    "\n",
    "print(b.transpose())"
   ]
  },
  {
   "cell_type": "markdown",
   "metadata": {
    "id": "B2qerMJAocYf"
   },
   "source": [
    "#### 10. Create the copy of this matrix and name it M2  (★☆☆)"
   ]
  },
  {
   "cell_type": "code",
   "execution_count": 41,
   "metadata": {
    "id": "AzVxpHkxocYg"
   },
   "outputs": [
    {
     "name": "stdout",
     "output_type": "stream",
     "text": [
      "[[38 51 28 14 42  7 20 38 57 18]\n",
      " [22 10 10 23 52 35 39 23  2 21]\n",
      " [52  1 23 43 29 37  1 59 20 32]\n",
      " [11 57 21 43 24 48 26 58 41 27]\n",
      " [59 15 14 46 50 43 54 51 56  2]\n",
      " [36 50  6 20  8 38 17  3 24 59]\n",
      " [13 49 57  8 25 52  1 19 27 46]\n",
      " [59  6 43  7 46 34 13 16 35 49]\n",
      " [39  3  1  5 53 41  3 53 28 17]\n",
      " [25 43 33  9 35 13 30 47 14  7]]\n"
     ]
    }
   ],
   "source": [
    "# your solution\n",
    "np.random.seed(42)\n",
    "\n",
    "a = np.random.randint(60, size=(10,10))\n",
    "\n",
    "M2 = a.copy()\n",
    "\n",
    "print(M2)"
   ]
  },
  {
   "cell_type": "markdown",
   "metadata": {
    "id": "xgC5kZ2LocYg"
   },
   "source": [
    "#### 11. Find the mean of each row of M1 (★★☆)"
   ]
  },
  {
   "cell_type": "code",
   "execution_count": 49,
   "metadata": {
    "colab": {
     "base_uri": "https://localhost:8080/"
    },
    "id": "C0jvPUZqocYg",
    "outputId": "bb42ed17-4a93-4914-9d79-1007de8701d5"
   },
   "outputs": [
    {
     "name": "stdout",
     "output_type": "stream",
     "text": [
      "[31.3 23.7 29.7 35.6 39.  26.1 29.7 30.8 24.3 25.6]\n"
     ]
    }
   ],
   "source": [
    "# your solution\n",
    "np.random.seed(42)\n",
    "\n",
    "a = np.random.randint(60, size=(10,10))\n",
    "\n",
    "print(np.mean(a, axis=1))\n"
   ]
  },
  {
   "cell_type": "markdown",
   "metadata": {
    "id": "r0E4Il-wocYg"
   },
   "source": [
    "#### 12. Create the following matrix: (★☆☆)\n",
    "```\n",
    "[[5, 5, 5, 5, 5],\n",
    " [5, 5, 5, 5, 5],\n",
    " [5, 5, 5, 5, 5]]\n",
    "```"
   ]
  },
  {
   "cell_type": "code",
   "execution_count": 53,
   "metadata": {
    "colab": {
     "base_uri": "https://localhost:8080/"
    },
    "id": "w8EYvKV2ocYh",
    "outputId": "76e82ee0-7fea-4c99-cc80-bef9f53f6341"
   },
   "outputs": [
    {
     "name": "stdout",
     "output_type": "stream",
     "text": [
      "[[5 5 5 5 5]\n",
      " [5 5 5 5 5]\n",
      " [5 5 5 5 5]]\n"
     ]
    }
   ],
   "source": [
    "# your solution\n",
    "a = np.full((3,5), 5)\n",
    "\n",
    "print(a)"
   ]
  },
  {
   "cell_type": "markdown",
   "metadata": {
    "id": "wn_GSooJocYi"
   },
   "source": [
    "#### 13. Add this two arrays and calculate the square of each element: (★★☆)\n",
    "\n",
    "```\n",
    "arrayOne = numpy.array([[5, 6, 9], [21 ,18, 27]])\n",
    "arrayTwo = numpy.array([[15 ,33, 24], [4 ,7, 1]])\n",
    "\n",
    "Result array after calculating the square root of all elements\n",
    "\n",
    "[[ 400 1521 1089]\n",
    " [ 625  625  784]]\n",
    "```"
   ]
  },
  {
   "cell_type": "code",
   "execution_count": 56,
   "metadata": {
    "colab": {
     "base_uri": "https://localhost:8080/"
    },
    "id": "H1EnODS7ocYl",
    "outputId": "b27c668b-bd82-47ef-8b53-94aa8558641e"
   },
   "outputs": [
    {
     "name": "stdout",
     "output_type": "stream",
     "text": [
      "[[ 400 1521 1089]\n",
      " [ 625  625  784]]\n"
     ]
    }
   ],
   "source": [
    "# your solution\n",
    "arrayOne = np.array([[5, 6, 9], [21 ,18, 27]])\n",
    "arrayTwo = np.array([[15 ,33, 24], [4 ,7, 1]])\n",
    "\n",
    "b = np.add(arrayOne, arrayTwo)\n",
    "\n",
    "print(np.power(b, 2))"
   ]
  },
  {
   "cell_type": "markdown",
   "metadata": {
    "id": "gsMgbNf7ocYl"
   },
   "source": [
    "### Hard level Bonus"
   ]
  },
  {
   "cell_type": "markdown",
   "metadata": {
    "id": "tcoJOc3socYm"
   },
   "source": [
    "#### 14. Create the following matrix and get the highlighted parts with indexing and slicing: (★★★)\n",
    "![image.png](attachment:image.png)"
   ]
  },
  {
   "cell_type": "code",
   "execution_count": null,
   "metadata": {
    "colab": {
     "base_uri": "https://localhost:8080/"
    },
    "id": "MscssH-TocYm",
    "outputId": "a34b79f8-43b0-4777-c63d-2c2a301ee6e7"
   },
   "outputs": [
    {
     "data": {
      "text/plain": [
       "matrix([[20, 22, 24],\n",
       "        [40, 42, 44]])"
      ]
     },
     "execution_count": 41,
     "metadata": {},
     "output_type": "execute_result"
    }
   ],
   "source": [
    "# your solution\n",
    "\n"
   ]
  },
  {
   "cell_type": "code",
   "execution_count": null,
   "metadata": {
    "colab": {
     "base_uri": "https://localhost:8080/"
    },
    "id": "YJdqTbbq187M",
    "outputId": "2842b5f9-dfb9-4c8f-9825-4b3528f33393",
    "scrolled": true
   },
   "outputs": [
    {
     "data": {
      "text/plain": [
       "matrix([[ 2],\n",
       "        [12],\n",
       "        [22],\n",
       "        [32],\n",
       "        [42],\n",
       "        [52]])"
      ]
     },
     "execution_count": 65,
     "metadata": {},
     "output_type": "execute_result"
    }
   ],
   "source": []
  },
  {
   "cell_type": "code",
   "execution_count": null,
   "metadata": {
    "colab": {
     "base_uri": "https://localhost:8080/"
    },
    "id": "uBZmISSj2uKS",
    "outputId": "8f711297-4e79-4b90-8d52-0bf92b21d8ff"
   },
   "outputs": [
    {
     "data": {
      "text/plain": [
       "matrix([[3, 4]])"
      ]
     },
     "execution_count": 60,
     "metadata": {},
     "output_type": "execute_result"
    }
   ],
   "source": []
  },
  {
   "cell_type": "code",
   "execution_count": null,
   "metadata": {
    "colab": {
     "base_uri": "https://localhost:8080/"
    },
    "id": "ObHtdUnz3KL8",
    "outputId": "fca80d01-b9f9-42d1-ebe9-bad767b958ea",
    "scrolled": true
   },
   "outputs": [
    {
     "data": {
      "text/plain": [
       "matrix([[44, 45],\n",
       "        [54, 55]])"
      ]
     },
     "execution_count": 68,
     "metadata": {},
     "output_type": "execute_result"
    }
   ],
   "source": []
  },
  {
   "cell_type": "markdown",
   "metadata": {
    "id": "AzXkyq59ocYn"
   },
   "source": [
    "#### 15. Create the following matrix and get the highlighted parts with indexing and slicing: (★★★)\n",
    "![image.png](attachment:image.png)"
   ]
  },
  {
   "cell_type": "code",
   "execution_count": null,
   "metadata": {
    "colab": {
     "base_uri": "https://localhost:8080/"
    },
    "id": "dZo8W5FdocYn",
    "outputId": "e537eb3e-d6de-4381-dc5a-e755f4829172"
   },
   "outputs": [
    {
     "data": {
      "text/plain": [
       "matrix([[ 2, 22, 52]])"
      ]
     },
     "execution_count": 74,
     "metadata": {},
     "output_type": "execute_result"
    }
   ],
   "source": [
    "# your solution\n"
   ]
  },
  {
   "cell_type": "code",
   "execution_count": null,
   "metadata": {
    "colab": {
     "base_uri": "https://localhost:8080/"
    },
    "id": "SClrIZft5Jfm",
    "outputId": "514dd869-f467-4897-b5d2-6a07ab982dbd"
   },
   "outputs": [
    {
     "data": {
      "text/plain": [
       "matrix([[30, 32, 35],\n",
       "        [40, 42, 45],\n",
       "        [50, 52, 55]])"
      ]
     },
     "execution_count": 83,
     "metadata": {},
     "output_type": "execute_result"
    }
   ],
   "source": []
  },
  {
   "cell_type": "code",
   "execution_count": null,
   "metadata": {
    "colab": {
     "base_uri": "https://localhost:8080/"
    },
    "id": "V2_NZJGo5uRB",
    "outputId": "3268b4c6-35cf-4b87-fd31-b5423a7d9f0e"
   },
   "outputs": [
    {
     "data": {
      "text/plain": [
       "matrix([[ 1, 12, 23, 34, 45]])"
      ]
     },
     "execution_count": 91,
     "metadata": {},
     "output_type": "execute_result"
    }
   ],
   "source": []
  },
  {
   "cell_type": "markdown",
   "metadata": {
    "id": "-WUuj-vjocYo"
   },
   "source": [
    "-----\n",
    "\n",
    "## Pandas (5 points)"
   ]
  },
  {
   "cell_type": "code",
   "execution_count": 60,
   "metadata": {
    "colab": {
     "base_uri": "https://localhost:8080/",
     "height": 328
    },
    "id": "sOr-KfI2ocYo",
    "outputId": "1c00bc39-43e2-4fb9-e6b1-72af22e6451e"
   },
   "outputs": [
    {
     "name": "stdout",
     "output_type": "stream",
     "text": [
      "                                Name Platform  Year_of_Release         Genre  \\\n",
      "0                         Wii Sports      Wii           2006.0        Sports   \n",
      "1                  Super Mario Bros.      NES           1985.0      Platform   \n",
      "2                     Mario Kart Wii      Wii           2008.0        Racing   \n",
      "3                  Wii Sports Resort      Wii           2009.0        Sports   \n",
      "4           Pokemon Red/Pokemon Blue       GB           1996.0  Role-Playing   \n",
      "...                              ...      ...              ...           ...   \n",
      "16714  Samurai Warriors: Sanada Maru      PS3           2016.0        Action   \n",
      "16715               LMA Manager 2007     X360           2006.0        Sports   \n",
      "16716        Haitaka no Psychedelica      PSV           2016.0     Adventure   \n",
      "16717               Spirits & Spells      GBA           2003.0      Platform   \n",
      "16718            Winning Post 8 2016      PSV           2016.0    Simulation   \n",
      "\n",
      "          Publisher  NA_Sales  EU_Sales  JP_Sales  Other_Sales  Global_Sales  \\\n",
      "0          Nintendo     41.36     28.96      3.77         8.45         82.53   \n",
      "1          Nintendo     29.08      3.58      6.81         0.77         40.24   \n",
      "2          Nintendo     15.68     12.76      3.79         3.29         35.52   \n",
      "3          Nintendo     15.61     10.93      3.28         2.95         32.77   \n",
      "4          Nintendo     11.27      8.89     10.22         1.00         31.37   \n",
      "...             ...       ...       ...       ...          ...           ...   \n",
      "16714    Tecmo Koei      0.00      0.00      0.01         0.00          0.01   \n",
      "16715   Codemasters      0.00      0.01      0.00         0.00          0.01   \n",
      "16716  Idea Factory      0.00      0.00      0.01         0.00          0.01   \n",
      "16717       Wanadoo      0.01      0.00      0.00         0.00          0.01   \n",
      "16718    Tecmo Koei      0.00      0.00      0.01         0.00          0.01   \n",
      "\n",
      "       Critic_Score  Critic_Count User_Score  User_Count Developer Rating  \n",
      "0              76.0          51.0          8       322.0  Nintendo      E  \n",
      "1               NaN           NaN        NaN         NaN       NaN    NaN  \n",
      "2              82.0          73.0        8.3       709.0  Nintendo      E  \n",
      "3              80.0          73.0          8       192.0  Nintendo      E  \n",
      "4               NaN           NaN        NaN         NaN       NaN    NaN  \n",
      "...             ...           ...        ...         ...       ...    ...  \n",
      "16714           NaN           NaN        NaN         NaN       NaN    NaN  \n",
      "16715           NaN           NaN        NaN         NaN       NaN    NaN  \n",
      "16716           NaN           NaN        NaN         NaN       NaN    NaN  \n",
      "16717           NaN           NaN        NaN         NaN       NaN    NaN  \n",
      "16718           NaN           NaN        NaN         NaN       NaN    NaN  \n",
      "\n",
      "[16719 rows x 16 columns]\n"
     ]
    }
   ],
   "source": [
    "# import the datafile \"video_games_sales.csv\"\n",
    "# https://www.kaggle.com/datasets/hamedetezadi/video-games-sales-dataset\n",
    "\n",
    "df  = pd.read_csv('./video_games_sales.csv')\n",
    "print(df)"
   ]
  },
  {
   "cell_type": "markdown",
   "metadata": {
    "id": "WocQufEXocYo"
   },
   "source": [
    "This dataset contains a list of video games with sales greater than 100,000 copies. (It was generated by a scrape of vgchartz.com)\n",
    ".\n",
    "\n",
    "Fields include\n",
    "\n",
    "- Rank - Ranking of overall sales\n",
    "- Name - The games name\n",
    "- Platform - Platform of the games release (i.e. PC,PS4, etc.)\n",
    "- Year - Year of the game's release\n",
    "- Genre - Genre of the game\n",
    "- Publisher - Publisher of the game\n",
    "- NA_Sales - Sales in North America (in millions)\n",
    "- EU_Sales - Sales in Europe (in millions)\n",
    "- JP_Sales - Sales in Japan (in millions)\n",
    "- Other_Sales - Sales in the rest of the world (in millions)\n",
    "- Global_Sales - Total worldwide sales."
   ]
  },
  {
   "cell_type": "markdown",
   "metadata": {
    "id": "v9dWr3Y4ocYp"
   },
   "source": [
    "**1. Show the first 5 items of dataframe (★☆☆)**"
   ]
  },
  {
   "cell_type": "code",
   "execution_count": null,
   "metadata": {
    "id": "-bpU27oGocYp"
   },
   "outputs": [],
   "source": [
    "# show the first 5 items of dataframe\n"
   ]
  },
  {
   "cell_type": "markdown",
   "metadata": {
    "id": "VyZlmOswocYq"
   },
   "source": [
    "**2. Print the column names  (★☆☆)**"
   ]
  },
  {
   "cell_type": "code",
   "execution_count": null,
   "metadata": {
    "id": "Ky3PX37NocYq"
   },
   "outputs": [],
   "source": [
    "# print the column names\n",
    "\n"
   ]
  },
  {
   "cell_type": "markdown",
   "metadata": {
    "id": "kJ0wvtOoocYr"
   },
   "source": [
    "**3. Show the first 5 items of dataframe sorted by year of release (newest first) (★☆☆)**"
   ]
  },
  {
   "cell_type": "code",
   "execution_count": null,
   "metadata": {
    "id": "PnNx6RyWocYr"
   },
   "outputs": [],
   "source": [
    "# show the first 5 items of dataframe sorted by year of release (newest first)\n",
    "\n"
   ]
  },
  {
   "cell_type": "markdown",
   "metadata": {
    "id": "ROgQ_CaZocYr"
   },
   "source": [
    "**4. What is the mean of \"Years of Release\" feature? Show  (★☆☆)**"
   ]
  },
  {
   "cell_type": "code",
   "execution_count": null,
   "metadata": {
    "id": "Z-agHZumocYs"
   },
   "outputs": [],
   "source": [
    "# What is the mean of \"Years of Release\" feature?  Show\n",
    "\n"
   ]
  },
  {
   "cell_type": "markdown",
   "metadata": {
    "id": "MaeLj8GpocYs"
   },
   "source": [
    "**5. Show first 5 games was published by \"Sega\"? (★☆☆)**"
   ]
  },
  {
   "cell_type": "code",
   "execution_count": null,
   "metadata": {
    "id": "j8KUkwuWocYs"
   },
   "outputs": [],
   "source": [
    "# Show first 5 games was published by \"Sega\"?\n",
    "\n"
   ]
  },
  {
   "cell_type": "markdown",
   "metadata": {
    "id": "El-TueZgocYs"
   },
   "source": [
    "**6. Show the dataframe with games that was Published by \"Ubisoft\" and 'Sports' genre  (★☆☆)**"
   ]
  },
  {
   "cell_type": "code",
   "execution_count": null,
   "metadata": {
    "id": "qZLHnT8tocYs"
   },
   "outputs": [],
   "source": [
    "# Show the dataframe with games that was Published by \"Ubisoft\" and 'Sports' genre\n",
    "\n"
   ]
  },
  {
   "cell_type": "markdown",
   "metadata": {
    "id": "XeJClmhfocYt"
   },
   "source": [
    "**7. What is the name of game which has the maximum sales in EU? Show (★☆☆)**"
   ]
  },
  {
   "cell_type": "code",
   "execution_count": null,
   "metadata": {
    "id": "eaF5fdydocYt"
   },
   "outputs": [],
   "source": [
    "# What is the name of game which has the maximum sales in EU? Show\n",
    "\n"
   ]
  },
  {
   "cell_type": "markdown",
   "metadata": {
    "id": "NeY1bk6wocYt"
   },
   "source": [
    "**8. Calculate the difference between the maximum and minimum of global sales? (★★☆)**"
   ]
  },
  {
   "cell_type": "code",
   "execution_count": null,
   "metadata": {
    "id": "qTjyGziAocYt"
   },
   "outputs": [],
   "source": [
    "# Calculate the difference between the maximum and minimum of global sales?\n",
    "\n"
   ]
  },
  {
   "cell_type": "markdown",
   "metadata": {
    "id": "fLIbZRTEocYt"
   },
   "source": [
    "**9. Show the histogram of Critic Score  (★★☆)**"
   ]
  },
  {
   "cell_type": "code",
   "execution_count": null,
   "metadata": {
    "id": "SqT8qIvFocYu"
   },
   "outputs": [],
   "source": [
    "# Show the histogram of Critic Score\n",
    "\n"
   ]
  },
  {
   "cell_type": "markdown",
   "metadata": {
    "id": "n05tmsn9ocYu"
   },
   "source": [
    "**10. Show the histogram of Critic Score of games released in 2010 (★★☆)**"
   ]
  },
  {
   "cell_type": "code",
   "execution_count": null,
   "metadata": {
    "id": "dVfD-pOzocYv"
   },
   "outputs": [],
   "source": [
    "# Show the histogram of Critic Score of games released in 2010\n",
    "\n"
   ]
  }
 ],
 "metadata": {
  "colab": {
   "provenance": []
  },
  "kernelspec": {
   "display_name": "Python 3 (ipykernel)",
   "language": "python",
   "name": "python3"
  },
  "language_info": {
   "codemirror_mode": {
    "name": "ipython",
    "version": 3
   },
   "file_extension": ".py",
   "mimetype": "text/x-python",
   "name": "python",
   "nbconvert_exporter": "python",
   "pygments_lexer": "ipython3",
   "version": "3.11.0"
  }
 },
 "nbformat": 4,
 "nbformat_minor": 1
}
